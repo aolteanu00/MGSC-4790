{
 "cells": [
  {
   "cell_type": "markdown",
   "id": "1acab677",
   "metadata": {},
   "source": [
    "### We will investigate smoking and drinking habits of 8761 individuals in this case study.\n",
    "\n",
    "The main objecive is to practice Pandas, Numpy, and Matplotlib libraries"
   ]
  },
  {
   "cell_type": "code",
   "execution_count": 1,
   "id": "05774b6a",
   "metadata": {},
   "outputs": [],
   "source": [
    "from IPython.core.interactiveshell import InteractiveShell\n",
    "InteractiveShell.ast_node_interactivity = \"all\""
   ]
  },
  {
   "cell_type": "code",
   "execution_count": 3,
   "id": "4e0722e5",
   "metadata": {},
   "outputs": [],
   "source": [
    "# Heeeelp!!\n",
    "# 0. Use Help tab\n",
    "# 1. h for keyboard shortcuts help\n",
    "# 2. To list magic commands\n",
    "# %lsmagic\n",
    "# 3. After putting \".\" press tab\n",
    "# 4. After function parathesis, press Shift - tab to see acceptable arguments\n",
    "# 5. To get help on a specific command, use ?\n",
    "# ?input"
   ]
  },
  {
   "cell_type": "code",
   "execution_count": 4,
   "id": "14b73a49",
   "metadata": {},
   "outputs": [],
   "source": [
    "# Importing the necessary libraries/modules\n",
    "import numpy as np\n",
    "import pandas as pd\n",
    "import matplotlib.pyplot as plt"
   ]
  },
  {
   "cell_type": "code",
   "execution_count": 6,
   "id": "a0e7e7d3",
   "metadata": {},
   "outputs": [],
   "source": [
    "# Create a data frame called df (a panel data) by reading the CSV file from your \"own\" folder\n",
    "df = pd.read_csv(\"/Users/alexolteanu/Desktop/Spring-2024/Github-Repos/MGSC-4790/Module1/SmokingDrinking.csv\")"
   ]
  },
  {
   "cell_type": "code",
   "execution_count": 7,
   "id": "3cb3e428",
   "metadata": {},
   "outputs": [],
   "source": [
    "# Deleting the data frame --in case you made and error or need it later!?\n",
    "# del df"
   ]
  },
  {
   "cell_type": "code",
   "execution_count": 8,
   "id": "df551720",
   "metadata": {
    "collapsed": true
   },
   "outputs": [
    {
     "data": {
      "text/html": [
       "<div>\n",
       "<style scoped>\n",
       "    .dataframe tbody tr th:only-of-type {\n",
       "        vertical-align: middle;\n",
       "    }\n",
       "\n",
       "    .dataframe tbody tr th {\n",
       "        vertical-align: top;\n",
       "    }\n",
       "\n",
       "    .dataframe thead th {\n",
       "        text-align: right;\n",
       "    }\n",
       "</style>\n",
       "<table border=\"1\" class=\"dataframe\">\n",
       "  <thead>\n",
       "    <tr style=\"text-align: right;\">\n",
       "      <th></th>\n",
       "      <th>Person</th>\n",
       "      <th>Smoking</th>\n",
       "      <th>Drinking</th>\n",
       "    </tr>\n",
       "  </thead>\n",
       "  <tbody>\n",
       "    <tr>\n",
       "      <th>0</th>\n",
       "      <td>1</td>\n",
       "      <td>NS</td>\n",
       "      <td>OD</td>\n",
       "    </tr>\n",
       "    <tr>\n",
       "      <th>1</th>\n",
       "      <td>2</td>\n",
       "      <td>NS</td>\n",
       "      <td>HD</td>\n",
       "    </tr>\n",
       "    <tr>\n",
       "      <th>2</th>\n",
       "      <td>3</td>\n",
       "      <td>OS</td>\n",
       "      <td>HD</td>\n",
       "    </tr>\n",
       "    <tr>\n",
       "      <th>3</th>\n",
       "      <td>4</td>\n",
       "      <td>HS</td>\n",
       "      <td>ND</td>\n",
       "    </tr>\n",
       "    <tr>\n",
       "      <th>4</th>\n",
       "      <td>5</td>\n",
       "      <td>NS</td>\n",
       "      <td>OD</td>\n",
       "    </tr>\n",
       "  </tbody>\n",
       "</table>\n",
       "</div>"
      ],
      "text/plain": [
       "   Person Smoking Drinking\n",
       "0       1      NS       OD\n",
       "1       2      NS       HD\n",
       "2       3      OS       HD\n",
       "3       4      HS       ND\n",
       "4       5      NS       OD"
      ]
     },
     "execution_count": 8,
     "metadata": {},
     "output_type": "execute_result"
    }
   ],
   "source": [
    "# Table/column header views\n",
    "df.head()\n",
    "\n",
    "# Smoking head?"
   ]
  },
  {
   "cell_type": "code",
   "execution_count": 9,
   "id": "35f1e243",
   "metadata": {
    "collapsed": true
   },
   "outputs": [
    {
     "data": {
      "text/plain": [
       "array(['NS', 'OS', 'HS'], dtype=object)"
      ]
     },
     "execution_count": 9,
     "metadata": {},
     "output_type": "execute_result"
    }
   ],
   "source": [
    "# Unique smoking values\n",
    "unique_smoking_values = df.Smoking.unique()\n",
    "unique_smoking_values"
   ]
  },
  {
   "cell_type": "code",
   "execution_count": 10,
   "id": "2b54afbe",
   "metadata": {},
   "outputs": [],
   "source": [
    "# Unique drinking values"
   ]
  },
  {
   "cell_type": "code",
   "execution_count": 11,
   "id": "f23b7942",
   "metadata": {
    "collapsed": true
   },
   "outputs": [
    {
     "data": {
      "text/plain": [
       "4912"
      ]
     },
     "execution_count": 11,
     "metadata": {},
     "output_type": "execute_result"
    }
   ],
   "source": [
    "# Counting number of items in one column\n",
    "df.Smoking.str.count('NS').sum()\n",
    "\n",
    "# Write another way"
   ]
  },
  {
   "cell_type": "code",
   "execution_count": 12,
   "id": "5e3ad3d3",
   "metadata": {
    "collapsed": true
   },
   "outputs": [
    {
     "data": {
      "text/plain": [
       "NS    4912\n",
       "OS    2401\n",
       "HS    1448\n",
       "Name: Smoking, dtype: int64"
      ]
     },
     "execution_count": 12,
     "metadata": {},
     "output_type": "execute_result"
    }
   ],
   "source": [
    "# Value counts.\n",
    "smoking_value_counts = df.Smoking.value_counts()\n",
    "smoking_value_counts\n",
    "\n",
    "# Add Drinking Value Counts"
   ]
  },
  {
   "cell_type": "code",
   "execution_count": 13,
   "id": "7444be6a",
   "metadata": {
    "collapsed": true
   },
   "outputs": [
    {
     "data": {
      "text/plain": [
       "(array([4912., 2401., 1448.]),\n",
       " array([0.        , 0.66666667, 1.33333333, 2.        ]),\n",
       " <BarContainer object of 3 artists>)"
      ]
     },
     "execution_count": 13,
     "metadata": {},
     "output_type": "execute_result"
    },
    {
     "data": {
      "text/plain": [
       "Text(0.5, 0, 'Smoking status')"
      ]
     },
     "execution_count": 13,
     "metadata": {},
     "output_type": "execute_result"
    },
    {
     "data": {
      "text/plain": [
       "Text(0, 0.5, 'Frequency')"
      ]
     },
     "execution_count": 13,
     "metadata": {},
     "output_type": "execute_result"
    },
    {
     "data": {
      "text/plain": [
       "Text(0.5, 1.0, 'Basic Histogram')"
      ]
     },
     "execution_count": 13,
     "metadata": {},
     "output_type": "execute_result"
    },
    {
     "data": {
      "image/png": "[encoded data removed]",
      "text/plain": [
       "<Figure size 640x480 with 1 Axes>"
      ]
     },
     "metadata": {},
     "output_type": "display_data"
    }
   ],
   "source": [
    "# Plotting a basic histogram for Smoking habits\n",
    "plt.hist(df.Smoking, bins = 3, color='green', edgecolor='black')\n",
    "\n",
    "# Adding labels and title\n",
    "plt.xlabel('Smoking status')\n",
    "plt.ylabel('Frequency')\n",
    "plt.title('Basic Histogram')\n",
    "\n",
    "# Display the plot\n",
    "plt.show()"
   ]
  },
  {
   "cell_type": "code",
   "execution_count": 14,
   "id": "b8d2a917",
   "metadata": {},
   "outputs": [],
   "source": [
    "# Basic histogram for Drinking"
   ]
  },
  {
   "cell_type": "code",
   "execution_count": 15,
   "id": "ac72142b",
   "metadata": {},
   "outputs": [],
   "source": [
    "# Define a dictinary with labels (smoking/drinking. status) and their number equivalents\n",
    "map_dict = dict(NS=0, OS=1, HS=2, ND=0, OD=1, HD=2)"
   ]
  },
  {
   "cell_type": "code",
   "execution_count": 16,
   "id": "be2e8efe",
   "metadata": {},
   "outputs": [],
   "source": [
    "# check the dictionary"
   ]
  },
  {
   "cell_type": "code",
   "execution_count": 17,
   "id": "fe1e4756",
   "metadata": {},
   "outputs": [],
   "source": [
    "# Create a new array with Smoking numbers\n",
    "Smoking2 = df.Smoking.map(map_dict)\n",
    "\n",
    "# We can also do this without defining a dictionary\n",
    "#Smoking2 = df.Smoking.map(dict(NS=0, OS=1, HS=2))"
   ]
  },
  {
   "cell_type": "code",
   "execution_count": 36,
   "id": "653ca3bd",
   "metadata": {
    "collapsed": true
   },
   "outputs": [
    {
     "data": {
      "text/plain": [
       "0       0\n",
       "1       0\n",
       "2       1\n",
       "3       2\n",
       "4       0\n",
       "       ..\n",
       "8756    0\n",
       "8757    2\n",
       "8758    2\n",
       "8759    1\n",
       "8760    0\n",
       "Name: Smoking, Length: 8761, dtype: int64"
      ]
     },
     "execution_count": 36,
     "metadata": {},
     "output_type": "execute_result"
    }
   ],
   "source": [
    "# Inspect the new numbers through header\n",
    "Smoking2\n",
    "\n",
    "# Inspect the dataframe header"
   ]
  },
  {
   "cell_type": "code",
   "execution_count": 37,
   "id": "5c895780",
   "metadata": {},
   "outputs": [],
   "source": [
    "# Add the Smoking array to the dataframe\n",
    "df['Smoking2'] = Smoking2.tolist()"
   ]
  },
  {
   "cell_type": "code",
   "execution_count": 38,
   "id": "75bfbd05",
   "metadata": {
    "collapsed": true
   },
   "outputs": [],
   "source": [
    "# If we make a mistake (such as spelling) we can drop a column as follows and re-do carefully\n",
    "#df = df.drop('Soking2', axis=1)"
   ]
  },
  {
   "cell_type": "code",
   "execution_count": 39,
   "id": "4d2572e8",
   "metadata": {},
   "outputs": [],
   "source": [
    "# Inspect the dataframe header"
   ]
  },
  {
   "cell_type": "code",
   "execution_count": 40,
   "id": "c52ecd00",
   "metadata": {},
   "outputs": [],
   "source": [
    "# Create a new array with Smoking numbers\n",
    "Drinking2 = df.Drinking.map(map_dict)"
   ]
  },
  {
   "cell_type": "code",
   "execution_count": 43,
   "id": "a3c82c39",
   "metadata": {
    "collapsed": true
   },
   "outputs": [],
   "source": [
    "# Repeat the same process for Drinking column\n",
    "df['Drinking2'] = Drinking2.tolist()"
   ]
  },
  {
   "cell_type": "code",
   "execution_count": 44,
   "id": "60f6be39",
   "metadata": {},
   "outputs": [
    {
     "data": {
      "text/html": [
       "<div>\n",
       "<style scoped>\n",
       "    .dataframe tbody tr th:only-of-type {\n",
       "        vertical-align: middle;\n",
       "    }\n",
       "\n",
       "    .dataframe tbody tr th {\n",
       "        vertical-align: top;\n",
       "    }\n",
       "\n",
       "    .dataframe thead th {\n",
       "        text-align: right;\n",
       "    }\n",
       "</style>\n",
       "<table border=\"1\" class=\"dataframe\">\n",
       "  <thead>\n",
       "    <tr style=\"text-align: right;\">\n",
       "      <th></th>\n",
       "      <th>Person</th>\n",
       "      <th>Smoking</th>\n",
       "      <th>Drinking</th>\n",
       "      <th>Smoking2</th>\n",
       "      <th>Drinking2</th>\n",
       "    </tr>\n",
       "  </thead>\n",
       "  <tbody>\n",
       "    <tr>\n",
       "      <th>0</th>\n",
       "      <td>1</td>\n",
       "      <td>NS</td>\n",
       "      <td>OD</td>\n",
       "      <td>0</td>\n",
       "      <td>1</td>\n",
       "    </tr>\n",
       "    <tr>\n",
       "      <th>1</th>\n",
       "      <td>2</td>\n",
       "      <td>NS</td>\n",
       "      <td>HD</td>\n",
       "      <td>0</td>\n",
       "      <td>2</td>\n",
       "    </tr>\n",
       "    <tr>\n",
       "      <th>2</th>\n",
       "      <td>3</td>\n",
       "      <td>OS</td>\n",
       "      <td>HD</td>\n",
       "      <td>1</td>\n",
       "      <td>2</td>\n",
       "    </tr>\n",
       "    <tr>\n",
       "      <th>3</th>\n",
       "      <td>4</td>\n",
       "      <td>HS</td>\n",
       "      <td>ND</td>\n",
       "      <td>2</td>\n",
       "      <td>0</td>\n",
       "    </tr>\n",
       "    <tr>\n",
       "      <th>4</th>\n",
       "      <td>5</td>\n",
       "      <td>NS</td>\n",
       "      <td>OD</td>\n",
       "      <td>0</td>\n",
       "      <td>1</td>\n",
       "    </tr>\n",
       "  </tbody>\n",
       "</table>\n",
       "</div>"
      ],
      "text/plain": [
       "   Person Smoking Drinking  Smoking2  Drinking2\n",
       "0       1      NS       OD         0          1\n",
       "1       2      NS       HD         0          2\n",
       "2       3      OS       HD         1          2\n",
       "3       4      HS       ND         2          0\n",
       "4       5      NS       OD         0          1"
      ]
     },
     "execution_count": 44,
     "metadata": {},
     "output_type": "execute_result"
    }
   ],
   "source": [
    "# Final look before computations\n",
    "df.head()"
   ]
  },
  {
   "cell_type": "code",
   "execution_count": 45,
   "id": "57a38ea6",
   "metadata": {},
   "outputs": [
    {
     "data": {
      "text/plain": [
       "0.3611842499960594"
      ]
     },
     "execution_count": 45,
     "metadata": {},
     "output_type": "execute_result"
    },
    {
     "data": {
      "text/plain": [
       "0.3611842499960594"
      ]
     },
     "execution_count": 45,
     "metadata": {},
     "output_type": "execute_result"
    }
   ],
   "source": [
    "# Compute correlation between to columns\n",
    "df.Smoking2.corr(df.Drinking2)\n",
    "df['Smoking2'].corr(df['Drinking2'])\n",
    "\n",
    "# Correlation function is commutative:"
   ]
  },
  {
   "cell_type": "code",
   "execution_count": 46,
   "id": "4c67ca55",
   "metadata": {},
   "outputs": [
    {
     "data": {
      "text/plain": [
       "0.2073308883965309"
      ]
     },
     "execution_count": 46,
     "metadata": {},
     "output_type": "execute_result"
    }
   ],
   "source": [
    "# Compute Covariance btw Smoking & Drinking\n",
    "df.Smoking2.cov(df.Drinking2)\n",
    "\n",
    "# Commutative"
   ]
  },
  {
   "cell_type": "code",
   "execution_count": null,
   "id": "6a74239a",
   "metadata": {},
   "outputs": [],
   "source": []
  },
  {
   "cell_type": "code",
   "execution_count": null,
   "id": "5ab0f78a",
   "metadata": {},
   "outputs": [],
   "source": []
  },
  {
   "cell_type": "code",
   "execution_count": null,
   "id": "d7b1aa99",
   "metadata": {},
   "outputs": [],
   "source": []
  }
 ],
 "metadata": {
  "kernelspec": {
   "display_name": "Python 3 (ipykernel)",
   "language": "python",
   "name": "python3"
  },
  "language_info": {
   "codemirror_mode": {
    "name": "ipython",
    "version": 3
   },
   "file_extension": ".py",
   "mimetype": "text/x-python",
   "name": "python",
   "nbconvert_exporter": "python",
   "pygments_lexer": "ipython3",
   "version": "3.12.0"
  }
 },
 "nbformat": 4,
 "nbformat_minor": 5
}
