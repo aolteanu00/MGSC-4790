{
 "cells": [
  {
   "cell_type": "markdown",
   "id": "1acab677",
   "metadata": {},
   "source": [
    "### We will investigate smoking and drinking habits of 8761 individuals in this case study.\n",
    "\n",
    "The main objecive is to practice Pandas, Numpy, and Matplotlib libraries"
   ]
  },
  {
   "cell_type": "code",
   "execution_count": 3,
   "id": "05774b6a",
   "metadata": {},
   "outputs": [],
   "source": [
    "from IPython.core.interactiveshell import InteractiveShell\n",
    "InteractiveShell.ast_node_interactivity = \"all\""
   ]
  },
  {
   "cell_type": "code",
   "execution_count": 76,
   "id": "4e0722e5",
   "metadata": {},
   "outputs": [],
   "source": [
    "# Heeeelp!!\n",
    "# 0. Use Help tab\n",
    "# 1. h for keyboard shortcuts help\n",
    "# 2. To list magic commands\n",
    "# %lsmagic\n",
    "# 3. After putting \".\" press tab\n",
    "# 4. After function parathesis, press Shift - tab to see acceptable arguments\n",
    "# 5. To get help on a specific command, use ?\n",
    "?input"
   ]
  },
  {
   "cell_type": "code",
   "execution_count": 2,
   "id": "14b73a49",
   "metadata": {},
   "outputs": [],
   "source": [
    "# Importing the necessary libraries/modules\n",
    "import numpy as np\n",
    "import pandas as pd\n",
    "import matplotlib.pyplot as plt"
   ]
  },
  {
   "cell_type": "code",
   "execution_count": 4,
   "id": "a0e7e7d3",
   "metadata": {},
   "outputs": [],
   "source": [
    "# Create a data frame called df (a panel data) by reading the CSV file from your \"own\" folder\n",
    "df = pd.read_csv(\"C:/Users/okazan/MGSC 4790 Python/Module_1/SmokingDrinking.csv\")"
   ]
  },
  {
   "cell_type": "code",
   "execution_count": 31,
   "id": "3cb3e428",
   "metadata": {},
   "outputs": [],
   "source": [
    "# Deleting the data frame --in case you made and error or need it later!?\n",
    "# del df"
   ]
  },
  {
   "cell_type": "code",
   "execution_count": 11,
   "id": "df551720",
   "metadata": {
    "collapsed": true
   },
   "outputs": [
    {
     "name": "stdout",
     "output_type": "stream",
     "text": [
      "   Person Smoking Drinking\n",
      "0       1      NS       OD\n",
      "1       2      NS       HD\n",
      "2       3      OS       HD\n",
      "3       4      HS       ND\n",
      "4       5      NS       OD\n"
     ]
    }
   ],
   "source": [
    "# Table/column header views\n",
    "df.head()\n",
    "\n",
    "# Smoking head?"
   ]
  },
  {
   "cell_type": "code",
   "execution_count": 140,
   "id": "35f1e243",
   "metadata": {
    "collapsed": true
   },
   "outputs": [
    {
     "data": {
      "text/plain": [
       "array(['NS', 'OS', 'HS'], dtype=object)"
      ]
     },
     "execution_count": 140,
     "metadata": {},
     "output_type": "execute_result"
    }
   ],
   "source": [
    "# Unique smoking values\n",
    "unique_smoking_values = df.Smoking.unique()\n",
    "unique_smoking_values"
   ]
  },
  {
   "cell_type": "code",
   "execution_count": 19,
   "id": "2b54afbe",
   "metadata": {},
   "outputs": [],
   "source": [
    "# Unique drinking values"
   ]
  },
  {
   "cell_type": "code",
   "execution_count": 13,
   "id": "f23b7942",
   "metadata": {
    "collapsed": true
   },
   "outputs": [
    {
     "data": {
      "text/plain": [
       "4912"
      ]
     },
     "execution_count": 13,
     "metadata": {},
     "output_type": "execute_result"
    }
   ],
   "source": [
    "# Counting number of items in one column\n",
    "df.Smoking.str.count('NS').sum()\n",
    "\n",
    "# Write another way"
   ]
  },
  {
   "cell_type": "code",
   "execution_count": 139,
   "id": "5e3ad3d3",
   "metadata": {
    "collapsed": true
   },
   "outputs": [
    {
     "data": {
      "text/plain": [
       "Smoking\n",
       "NS    4912\n",
       "OS    2401\n",
       "HS    1448\n",
       "Name: count, dtype: int64"
      ]
     },
     "execution_count": 139,
     "metadata": {},
     "output_type": "execute_result"
    }
   ],
   "source": [
    "# Value counts.\n",
    "smoking_value_counts = df.Smoking.value_counts()\n",
    "smoking_value_counts\n",
    "\n",
    "# Add Drinking Value Counts"
   ]
  },
  {
   "cell_type": "code",
   "execution_count": 16,
   "id": "7444be6a",
   "metadata": {
    "collapsed": true
   },
   "outputs": [
    {
     "data": {
      "text/plain": [
       "(array([4912., 2401., 1448.]),\n",
       " array([0.        , 0.66666667, 1.33333333, 2.        ]),\n",
       " <BarContainer object of 3 artists>)"
      ]
     },
     "execution_count": 16,
     "metadata": {},
     "output_type": "execute_result"
    },
    {
     "data": {
      "text/plain": [
       "Text(0.5, 0, 'Smoking status')"
      ]
     },
     "execution_count": 16,
     "metadata": {},
     "output_type": "execute_result"
    },
    {
     "data": {
      "text/plain": [
       "Text(0, 0.5, 'Frequency')"
      ]
     },
     "execution_count": 16,
     "metadata": {},
     "output_type": "execute_result"
    },
    {
     "data": {
      "text/plain": [
       "Text(0.5, 1.0, 'Basic Histogram')"
      ]
     },
     "execution_count": 16,
     "metadata": {},
     "output_type": "execute_result"
    },
    {
     "data": {
      "image/png": "[encoded data removed]",
      "text/plain": [
       "<Figure size 640x480 with 1 Axes>"
      ]
     },
     "metadata": {},
     "output_type": "display_data"
    }
   ],
   "source": [
    "# Plotting a basic histogram for Smoking habits\n",
    "plt.hist(df.Smoking, bins = 3, color='green', edgecolor='black')\n",
    "\n",
    "# Adding labels and title\n",
    "plt.xlabel('Smoking status')\n",
    "plt.ylabel('Frequency')\n",
    "plt.title('Basic Histogram')\n",
    "\n",
    "# Display the plot\n",
    "plt.show()"
   ]
  },
  {
   "cell_type": "code",
   "execution_count": null,
   "id": "b8d2a917",
   "metadata": {},
   "outputs": [],
   "source": [
    "# Basic histogram for Drinking"
   ]
  },
  {
   "cell_type": "code",
   "execution_count": 20,
   "id": "ac72142b",
   "metadata": {},
   "outputs": [],
   "source": [
    "# Define a dictinary with labels (smoking/drinking. status) and their number equivalents\n",
    "map_dict = dict(NS=0, OS=1, HS=2, ND=0, OD=1, HD=2)"
   ]
  },
  {
   "cell_type": "code",
   "execution_count": 22,
   "id": "be2e8efe",
   "metadata": {},
   "outputs": [],
   "source": [
    "# check the dictionary"
   ]
  },
  {
   "cell_type": "code",
   "execution_count": 23,
   "id": "fe1e4756",
   "metadata": {},
   "outputs": [],
   "source": [
    "# Create a new array with Smoking numbers\n",
    "Smoking2 = df.Smoking.map(map_dict)\n",
    "\n",
    "# We can also do this without defining a dictionary\n",
    "#Smoking2 = df.Smoking.map(dict(NS=0, OS=1, HS=2))"
   ]
  },
  {
   "cell_type": "code",
   "execution_count": 25,
   "id": "653ca3bd",
   "metadata": {
    "collapsed": true
   },
   "outputs": [
    {
     "ename": "SyntaxError",
     "evalue": "invalid syntax (2381786420.py, line 2)",
     "output_type": "error",
     "traceback": [
      "\u001b[1;36m  Cell \u001b[1;32mIn[25], line 2\u001b[1;36m\u001b[0m\n\u001b[1;33m    Smoking2.\u001b[0m\n\u001b[1;37m             ^\u001b[0m\n\u001b[1;31mSyntaxError\u001b[0m\u001b[1;31m:\u001b[0m invalid syntax\n"
     ]
    }
   ],
   "source": [
    "# Inspect the new numbers through header\n",
    "Smoking2.\n",
    "\n",
    "# Inspect the dataframe header"
   ]
  },
  {
   "cell_type": "code",
   "execution_count": 146,
   "id": "5c895780",
   "metadata": {},
   "outputs": [],
   "source": [
    "# Add the Smoking array to the dataframe\n",
    "df['Smoking2'] = Smoking2.tolist()"
   ]
  },
  {
   "cell_type": "code",
   "execution_count": 135,
   "id": "75bfbd05",
   "metadata": {
    "collapsed": true
   },
   "outputs": [
    {
     "ename": "KeyError",
     "evalue": "\"['Soking2'] not found in axis\"",
     "output_type": "error",
     "traceback": [
      "\u001b[1;31m---------------------------------------------------------------------------\u001b[0m",
      "\u001b[1;31mKeyError\u001b[0m                                  Traceback (most recent call last)",
      "Cell \u001b[1;32mIn[135], line 2\u001b[0m\n\u001b[0;32m      1\u001b[0m \u001b[38;5;66;03m# If we make a mistake (such as spelling) we can drop a column as follows\u001b[39;00m\n\u001b[1;32m----> 2\u001b[0m df \u001b[38;5;241m=\u001b[39m df\u001b[38;5;241m.\u001b[39mdrop(\u001b[38;5;124m'\u001b[39m\u001b[38;5;124mSoking2\u001b[39m\u001b[38;5;124m'\u001b[39m, axis\u001b[38;5;241m=\u001b[39m\u001b[38;5;241m1\u001b[39m)\n",
      "File \u001b[1;32m~\\AppData\\Local\\anaconda3\\Lib\\site-packages\\pandas\\core\\frame.py:5258\u001b[0m, in \u001b[0;36mDataFrame.drop\u001b[1;34m(self, labels, axis, index, columns, level, inplace, errors)\u001b[0m\n\u001b[0;32m   5110\u001b[0m \u001b[38;5;28;01mdef\u001b[39;00m \u001b[38;5;21mdrop\u001b[39m(\n\u001b[0;32m   5111\u001b[0m     \u001b[38;5;28mself\u001b[39m,\n\u001b[0;32m   5112\u001b[0m     labels: IndexLabel \u001b[38;5;241m=\u001b[39m \u001b[38;5;28;01mNone\u001b[39;00m,\n\u001b[1;32m   (...)\u001b[0m\n\u001b[0;32m   5119\u001b[0m     errors: IgnoreRaise \u001b[38;5;241m=\u001b[39m \u001b[38;5;124m\"\u001b[39m\u001b[38;5;124mraise\u001b[39m\u001b[38;5;124m\"\u001b[39m,\n\u001b[0;32m   5120\u001b[0m ) \u001b[38;5;241m-\u001b[39m\u001b[38;5;241m>\u001b[39m DataFrame \u001b[38;5;241m|\u001b[39m \u001b[38;5;28;01mNone\u001b[39;00m:\n\u001b[0;32m   5121\u001b[0m \u001b[38;5;250m    \u001b[39m\u001b[38;5;124;03m\"\"\"\u001b[39;00m\n\u001b[0;32m   5122\u001b[0m \u001b[38;5;124;03m    Drop specified labels from rows or columns.\u001b[39;00m\n\u001b[0;32m   5123\u001b[0m \n\u001b[1;32m   (...)\u001b[0m\n\u001b[0;32m   5256\u001b[0m \u001b[38;5;124;03m            weight  1.0     0.8\u001b[39;00m\n\u001b[0;32m   5257\u001b[0m \u001b[38;5;124;03m    \"\"\"\u001b[39;00m\n\u001b[1;32m-> 5258\u001b[0m     \u001b[38;5;28;01mreturn\u001b[39;00m \u001b[38;5;28msuper\u001b[39m()\u001b[38;5;241m.\u001b[39mdrop(\n\u001b[0;32m   5259\u001b[0m         labels\u001b[38;5;241m=\u001b[39mlabels,\n\u001b[0;32m   5260\u001b[0m         axis\u001b[38;5;241m=\u001b[39maxis,\n\u001b[0;32m   5261\u001b[0m         index\u001b[38;5;241m=\u001b[39mindex,\n\u001b[0;32m   5262\u001b[0m         columns\u001b[38;5;241m=\u001b[39mcolumns,\n\u001b[0;32m   5263\u001b[0m         level\u001b[38;5;241m=\u001b[39mlevel,\n\u001b[0;32m   5264\u001b[0m         inplace\u001b[38;5;241m=\u001b[39minplace,\n\u001b[0;32m   5265\u001b[0m         errors\u001b[38;5;241m=\u001b[39merrors,\n\u001b[0;32m   5266\u001b[0m     )\n",
      "File \u001b[1;32m~\\AppData\\Local\\anaconda3\\Lib\\site-packages\\pandas\\core\\generic.py:4549\u001b[0m, in \u001b[0;36mNDFrame.drop\u001b[1;34m(self, labels, axis, index, columns, level, inplace, errors)\u001b[0m\n\u001b[0;32m   4547\u001b[0m \u001b[38;5;28;01mfor\u001b[39;00m axis, labels \u001b[38;5;129;01min\u001b[39;00m axes\u001b[38;5;241m.\u001b[39mitems():\n\u001b[0;32m   4548\u001b[0m     \u001b[38;5;28;01mif\u001b[39;00m labels \u001b[38;5;129;01mis\u001b[39;00m \u001b[38;5;129;01mnot\u001b[39;00m \u001b[38;5;28;01mNone\u001b[39;00m:\n\u001b[1;32m-> 4549\u001b[0m         obj \u001b[38;5;241m=\u001b[39m obj\u001b[38;5;241m.\u001b[39m_drop_axis(labels, axis, level\u001b[38;5;241m=\u001b[39mlevel, errors\u001b[38;5;241m=\u001b[39merrors)\n\u001b[0;32m   4551\u001b[0m \u001b[38;5;28;01mif\u001b[39;00m inplace:\n\u001b[0;32m   4552\u001b[0m     \u001b[38;5;28mself\u001b[39m\u001b[38;5;241m.\u001b[39m_update_inplace(obj)\n",
      "File \u001b[1;32m~\\AppData\\Local\\anaconda3\\Lib\\site-packages\\pandas\\core\\generic.py:4591\u001b[0m, in \u001b[0;36mNDFrame._drop_axis\u001b[1;34m(self, labels, axis, level, errors, only_slice)\u001b[0m\n\u001b[0;32m   4589\u001b[0m         new_axis \u001b[38;5;241m=\u001b[39m axis\u001b[38;5;241m.\u001b[39mdrop(labels, level\u001b[38;5;241m=\u001b[39mlevel, errors\u001b[38;5;241m=\u001b[39merrors)\n\u001b[0;32m   4590\u001b[0m     \u001b[38;5;28;01melse\u001b[39;00m:\n\u001b[1;32m-> 4591\u001b[0m         new_axis \u001b[38;5;241m=\u001b[39m axis\u001b[38;5;241m.\u001b[39mdrop(labels, errors\u001b[38;5;241m=\u001b[39merrors)\n\u001b[0;32m   4592\u001b[0m     indexer \u001b[38;5;241m=\u001b[39m axis\u001b[38;5;241m.\u001b[39mget_indexer(new_axis)\n\u001b[0;32m   4594\u001b[0m \u001b[38;5;66;03m# Case for non-unique axis\u001b[39;00m\n\u001b[0;32m   4595\u001b[0m \u001b[38;5;28;01melse\u001b[39;00m:\n",
      "File \u001b[1;32m~\\AppData\\Local\\anaconda3\\Lib\\site-packages\\pandas\\core\\indexes\\base.py:6699\u001b[0m, in \u001b[0;36mIndex.drop\u001b[1;34m(self, labels, errors)\u001b[0m\n\u001b[0;32m   6697\u001b[0m \u001b[38;5;28;01mif\u001b[39;00m mask\u001b[38;5;241m.\u001b[39many():\n\u001b[0;32m   6698\u001b[0m     \u001b[38;5;28;01mif\u001b[39;00m errors \u001b[38;5;241m!=\u001b[39m \u001b[38;5;124m\"\u001b[39m\u001b[38;5;124mignore\u001b[39m\u001b[38;5;124m\"\u001b[39m:\n\u001b[1;32m-> 6699\u001b[0m         \u001b[38;5;28;01mraise\u001b[39;00m \u001b[38;5;167;01mKeyError\u001b[39;00m(\u001b[38;5;124mf\u001b[39m\u001b[38;5;124m\"\u001b[39m\u001b[38;5;132;01m{\u001b[39;00m\u001b[38;5;28mlist\u001b[39m(labels[mask])\u001b[38;5;132;01m}\u001b[39;00m\u001b[38;5;124m not found in axis\u001b[39m\u001b[38;5;124m\"\u001b[39m)\n\u001b[0;32m   6700\u001b[0m     indexer \u001b[38;5;241m=\u001b[39m indexer[\u001b[38;5;241m~\u001b[39mmask]\n\u001b[0;32m   6701\u001b[0m \u001b[38;5;28;01mreturn\u001b[39;00m \u001b[38;5;28mself\u001b[39m\u001b[38;5;241m.\u001b[39mdelete(indexer)\n",
      "\u001b[1;31mKeyError\u001b[0m: \"['Soking2'] not found in axis\""
     ]
    }
   ],
   "source": [
    "# If we make a mistake (such as spelling) we can drop a column as follows and re-do carefully\n",
    "#df = df.drop('Soking2', axis=1)"
   ]
  },
  {
   "cell_type": "code",
   "execution_count": null,
   "id": "4d2572e8",
   "metadata": {},
   "outputs": [],
   "source": [
    "# Inspect the dataframe header"
   ]
  },
  {
   "cell_type": "code",
   "execution_count": 155,
   "id": "c52ecd00",
   "metadata": {},
   "outputs": [],
   "source": [
    "# Create a new array with Smoking numbers\n",
    "Drinking2 = df.Drinking.map(map_dict)"
   ]
  },
  {
   "cell_type": "code",
   "execution_count": 27,
   "id": "a3c82c39",
   "metadata": {
    "collapsed": true
   },
   "outputs": [
    {
     "ename": "NameError",
     "evalue": "name 'Drinking2' is not defined",
     "output_type": "error",
     "traceback": [
      "\u001b[1;31m---------------------------------------------------------------------------\u001b[0m",
      "\u001b[1;31mNameError\u001b[0m                                 Traceback (most recent call last)",
      "Cell \u001b[1;32mIn[27], line 1\u001b[0m\n\u001b[1;32m----> 1\u001b[0m Drinking2\u001b[38;5;241m.\u001b[39mhead()\n",
      "\u001b[1;31mNameError\u001b[0m: name 'Drinking2' is not defined"
     ]
    }
   ],
   "source": [
    "# Repeat the same process for Drinking column"
   ]
  },
  {
   "cell_type": "code",
   "execution_count": 152,
   "id": "60f6be39",
   "metadata": {},
   "outputs": [
    {
     "data": {
      "text/html": [
       "<div>\n",
       "<style scoped>\n",
       "    .dataframe tbody tr th:only-of-type {\n",
       "        vertical-align: middle;\n",
       "    }\n",
       "\n",
       "    .dataframe tbody tr th {\n",
       "        vertical-align: top;\n",
       "    }\n",
       "\n",
       "    .dataframe thead th {\n",
       "        text-align: right;\n",
       "    }\n",
       "</style>\n",
       "<table border=\"1\" class=\"dataframe\">\n",
       "  <thead>\n",
       "    <tr style=\"text-align: right;\">\n",
       "      <th></th>\n",
       "      <th>Person</th>\n",
       "      <th>Smoking</th>\n",
       "      <th>Drinking</th>\n",
       "      <th>Smoking2</th>\n",
       "      <th>Drinking2</th>\n",
       "    </tr>\n",
       "  </thead>\n",
       "  <tbody>\n",
       "    <tr>\n",
       "      <th>0</th>\n",
       "      <td>1</td>\n",
       "      <td>NS</td>\n",
       "      <td>OD</td>\n",
       "      <td>0</td>\n",
       "      <td>1</td>\n",
       "    </tr>\n",
       "    <tr>\n",
       "      <th>1</th>\n",
       "      <td>2</td>\n",
       "      <td>NS</td>\n",
       "      <td>HD</td>\n",
       "      <td>0</td>\n",
       "      <td>2</td>\n",
       "    </tr>\n",
       "    <tr>\n",
       "      <th>2</th>\n",
       "      <td>3</td>\n",
       "      <td>OS</td>\n",
       "      <td>HD</td>\n",
       "      <td>1</td>\n",
       "      <td>2</td>\n",
       "    </tr>\n",
       "    <tr>\n",
       "      <th>3</th>\n",
       "      <td>4</td>\n",
       "      <td>HS</td>\n",
       "      <td>ND</td>\n",
       "      <td>2</td>\n",
       "      <td>0</td>\n",
       "    </tr>\n",
       "    <tr>\n",
       "      <th>4</th>\n",
       "      <td>5</td>\n",
       "      <td>NS</td>\n",
       "      <td>OD</td>\n",
       "      <td>0</td>\n",
       "      <td>1</td>\n",
       "    </tr>\n",
       "  </tbody>\n",
       "</table>\n",
       "</div>"
      ],
      "text/plain": [
       "   Person Smoking Drinking  Smoking2  Drinking2\n",
       "0       1      NS       OD         0          1\n",
       "1       2      NS       HD         0          2\n",
       "2       3      OS       HD         1          2\n",
       "3       4      HS       ND         2          0\n",
       "4       5      NS       OD         0          1"
      ]
     },
     "execution_count": 152,
     "metadata": {},
     "output_type": "execute_result"
    }
   ],
   "source": [
    "# Final look before computations\n",
    "df.head()"
   ]
  },
  {
   "cell_type": "code",
   "execution_count": 165,
   "id": "57a38ea6",
   "metadata": {},
   "outputs": [
    {
     "data": {
      "text/plain": [
       "0.36118424999605914"
      ]
     },
     "execution_count": 165,
     "metadata": {},
     "output_type": "execute_result"
    },
    {
     "data": {
      "text/plain": [
       "0.36118424999605914"
      ]
     },
     "execution_count": 165,
     "metadata": {},
     "output_type": "execute_result"
    },
    {
     "data": {
      "text/plain": [
       "0.36118424999605914"
      ]
     },
     "execution_count": 165,
     "metadata": {},
     "output_type": "execute_result"
    }
   ],
   "source": [
    "# Compute correlation between to columns\n",
    "df.Smoking2.corr(df.Drinking2)\n",
    "df['Smoking2'].corr(df['Drinking2'])\n",
    "\n",
    "# Correlation function is commutative:"
   ]
  },
  {
   "cell_type": "code",
   "execution_count": 167,
   "id": "4c67ca55",
   "metadata": {},
   "outputs": [
    {
     "data": {
      "text/plain": [
       "0.2073308883965309"
      ]
     },
     "execution_count": 167,
     "metadata": {},
     "output_type": "execute_result"
    }
   ],
   "source": [
    "# Compute Covariance btw Smoking & Drinking\n",
    "df.Smoking2.cov(df.Drinking2)\n",
    "\n",
    "# Commutative"
   ]
  },
  {
   "cell_type": "code",
   "execution_count": null,
   "id": "6a74239a",
   "metadata": {},
   "outputs": [],
   "source": []
  }
 ],
 "metadata": {
  "kernelspec": {
   "display_name": "Python 3 (ipykernel)",
   "language": "python",
   "name": "python3"
  },
  "language_info": {
   "codemirror_mode": {
    "name": "ipython",
    "version": 3
   },
   "file_extension": ".py",
   "mimetype": "text/x-python",
   "name": "python",
   "nbconvert_exporter": "python",
   "pygments_lexer": "ipython3",
   "version": "3.11.5"
  }
 },
 "nbformat": 4,
 "nbformat_minor": 5
}
