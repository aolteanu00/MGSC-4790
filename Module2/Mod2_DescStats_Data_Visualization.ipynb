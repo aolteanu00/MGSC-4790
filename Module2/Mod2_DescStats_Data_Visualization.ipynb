{
 "cells": [
  {
   "cell_type": "markdown",
   "id": "2346eedc",
   "metadata": {},
   "source": [
    "\n",
    "# Descriptive satistics and visualization with Matplotlib\n",
    "\n",
    "This document will utilize the `matplotlib` and `seaborn` libraries to generate fundamental visualizations in Python. Each type of visualization has its own advantages and drawbacks, making the selection of an appropriate one a common source of frustration for both content creators and readers. Be sure to make thoughtful choices! The section at the end offers some general guidance to assist in this decision-making process."
   ]
  },
  {
   "cell_type": "code",
   "execution_count": 1,
   "id": "43d9b776",
   "metadata": {},
   "outputs": [],
   "source": [
    "# Additional help: help(command), such as: help(print), help(plt.barh), help(pd.read_excel), help(np.polyfit), etc.\n",
    "# tab after \".\"  or Shift-tab anywhere in any command. Expand the help by clicking on \"+\""
   ]
  },
  {
   "cell_type": "code",
   "execution_count": 2,
   "id": "d1f2da6e",
   "metadata": {},
   "outputs": [],
   "source": [
    "\n",
    "import matplotlib.pyplot as plt\n",
    "import seaborn as sns\n",
    "import pandas as pd\n",
    "import numpy as np\n",
    "\n",
    "from IPython.core.interactiveshell import InteractiveShell  #To execute multiple lines in a cell\n",
    "InteractiveShell.ast_node_interactivity = \"all\""
   ]
  },
  {
   "cell_type": "markdown",
   "id": "16509f61",
   "metadata": {},
   "source": [
    "## 1. Constructing a data frame from lists\n",
    "\n",
    "We will use Pandas DataFrame and loc methods to construct a dataframe: df."
   ]
  },
  {
   "cell_type": "code",
   "execution_count": 3,
   "id": "47c30a49",
   "metadata": {},
   "outputs": [],
   "source": [
    "# Define and populate two lists\n",
    "temperature = [14.2, 16.4, 11.9, 12.5, 18.9, 22.1, 19.4, 23.1, 25.4, 18.1, 22.6, 17.2]\n",
    "sales = [215.20, 325.00, 185.20, 330.20, 418.60, 520.25, 412.20, 614.60, 544.80, 421.40, 445.50, 406.10]"
   ]
  },
  {
   "cell_type": "code",
   "execution_count": 4,
   "id": "c84df944",
   "metadata": {
    "collapsed": true
   },
   "outputs": [
    {
     "data": {
      "text/plain": [
       "list"
      ]
     },
     "execution_count": 4,
     "metadata": {},
     "output_type": "execute_result"
    }
   ],
   "source": [
    "# In case we want to remember the type of this collection (structural) data\n",
    "type(sales)"
   ]
  },
  {
   "cell_type": "code",
   "execution_count": 5,
   "id": "425276f6",
   "metadata": {},
   "outputs": [],
   "source": [
    "# Create a DataFrame object with one column Temperature\n",
    "df = pd.DataFrame(temperature, columns = ['Temperature'])"
   ]
  },
  {
   "cell_type": "code",
   "execution_count": 6,
   "id": "7c28660b",
   "metadata": {},
   "outputs": [
    {
     "name": "stdout",
     "output_type": "stream",
     "text": [
      "\u001b[0;31mInit signature:\u001b[0m\n",
      "\u001b[0mpd\u001b[0m\u001b[0;34m.\u001b[0m\u001b[0mDataFrame\u001b[0m\u001b[0;34m(\u001b[0m\u001b[0;34m\u001b[0m\n",
      "\u001b[0;34m\u001b[0m    \u001b[0mdata\u001b[0m\u001b[0;34m=\u001b[0m\u001b[0;32mNone\u001b[0m\u001b[0;34m,\u001b[0m\u001b[0;34m\u001b[0m\n",
      "\u001b[0;34m\u001b[0m    \u001b[0mindex\u001b[0m\u001b[0;34m:\u001b[0m \u001b[0;34m'Axes | None'\u001b[0m \u001b[0;34m=\u001b[0m \u001b[0;32mNone\u001b[0m\u001b[0;34m,\u001b[0m\u001b[0;34m\u001b[0m\n",
      "\u001b[0;34m\u001b[0m    \u001b[0mcolumns\u001b[0m\u001b[0;34m:\u001b[0m \u001b[0;34m'Axes | None'\u001b[0m \u001b[0;34m=\u001b[0m \u001b[0;32mNone\u001b[0m\u001b[0;34m,\u001b[0m\u001b[0;34m\u001b[0m\n",
      "\u001b[0;34m\u001b[0m    \u001b[0mdtype\u001b[0m\u001b[0;34m:\u001b[0m \u001b[0;34m'Dtype | None'\u001b[0m \u001b[0;34m=\u001b[0m \u001b[0;32mNone\u001b[0m\u001b[0;34m,\u001b[0m\u001b[0;34m\u001b[0m\n",
      "\u001b[0;34m\u001b[0m    \u001b[0mcopy\u001b[0m\u001b[0;34m:\u001b[0m \u001b[0;34m'bool | None'\u001b[0m \u001b[0;34m=\u001b[0m \u001b[0;32mNone\u001b[0m\u001b[0;34m,\u001b[0m\u001b[0;34m\u001b[0m\n",
      "\u001b[0;34m\u001b[0m\u001b[0;34m)\u001b[0m \u001b[0;34m->\u001b[0m \u001b[0;34m'None'\u001b[0m\u001b[0;34m\u001b[0m\u001b[0;34m\u001b[0m\u001b[0m\n",
      "\u001b[0;31mDocstring:\u001b[0m     \n",
      "Two-dimensional, size-mutable, potentially heterogeneous tabular data.\n",
      "\n",
      "Data structure also contains labeled axes (rows and columns).\n",
      "Arithmetic operations align on both row and column labels. Can be\n",
      "thought of as a dict-like container for Series objects. The primary\n",
      "pandas data structure.\n",
      "\n",
      "Parameters\n",
      "----------\n",
      "data : ndarray (structured or homogeneous), Iterable, dict, or DataFrame\n",
      "    Dict can contain Series, arrays, constants, dataclass or list-like objects. If\n",
      "    data is a dict, column order follows insertion-order. If a dict contains Series\n",
      "    which have an index defined, it is aligned by its index.\n",
      "\n",
      "    .. versionchanged:: 0.25.0\n",
      "       If data is a list of dicts, column order follows insertion-order.\n",
      "\n",
      "index : Index or array-like\n",
      "    Index to use for resulting frame. Will default to RangeIndex if\n",
      "    no indexing information part of input data and no index provided.\n",
      "columns : Index or array-like\n",
      "    Column labels to use for resulting frame when data does not have them,\n",
      "    defaulting to RangeIndex(0, 1, 2, ..., n). If data contains column labels,\n",
      "    will perform column selection instead.\n",
      "dtype : dtype, default None\n",
      "    Data type to force. Only a single dtype is allowed. If None, infer.\n",
      "copy : bool or None, default None\n",
      "    Copy data from inputs.\n",
      "    For dict data, the default of None behaves like ``copy=True``.  For DataFrame\n",
      "    or 2d ndarray input, the default of None behaves like ``copy=False``.\n",
      "    If data is a dict containing one or more Series (possibly of different dtypes),\n",
      "    ``copy=False`` will ensure that these inputs are not copied.\n",
      "\n",
      "    .. versionchanged:: 1.3.0\n",
      "\n",
      "See Also\n",
      "--------\n",
      "DataFrame.from_records : Constructor from tuples, also record arrays.\n",
      "DataFrame.from_dict : From dicts of Series, arrays, or dicts.\n",
      "read_csv : Read a comma-separated values (csv) file into DataFrame.\n",
      "read_table : Read general delimited file into DataFrame.\n",
      "read_clipboard : Read text from clipboard into DataFrame.\n",
      "\n",
      "Notes\n",
      "-----\n",
      "Please reference the :ref:`User Guide <basics.dataframe>` for more information.\n",
      "\n",
      "Examples\n",
      "--------\n",
      "Constructing DataFrame from a dictionary.\n",
      "\n",
      ">>> d = {'col1': [1, 2], 'col2': [3, 4]}\n",
      ">>> df = pd.DataFrame(data=d)\n",
      ">>> df\n",
      "   col1  col2\n",
      "0     1     3\n",
      "1     2     4\n",
      "\n",
      "Notice that the inferred dtype is int64.\n",
      "\n",
      ">>> df.dtypes\n",
      "col1    int64\n",
      "col2    int64\n",
      "dtype: object\n",
      "\n",
      "To enforce a single dtype:\n",
      "\n",
      ">>> df = pd.DataFrame(data=d, dtype=np.int8)\n",
      ">>> df.dtypes\n",
      "col1    int8\n",
      "col2    int8\n",
      "dtype: object\n",
      "\n",
      "Constructing DataFrame from a dictionary including Series:\n",
      "\n",
      ">>> d = {'col1': [0, 1, 2, 3], 'col2': pd.Series([2, 3], index=[2, 3])}\n",
      ">>> pd.DataFrame(data=d, index=[0, 1, 2, 3])\n",
      "   col1  col2\n",
      "0     0   NaN\n",
      "1     1   NaN\n",
      "2     2   2.0\n",
      "3     3   3.0\n",
      "\n",
      "Constructing DataFrame from numpy ndarray:\n",
      "\n",
      ">>> df2 = pd.DataFrame(np.array([[1, 2, 3], [4, 5, 6], [7, 8, 9]]),\n",
      "...                    columns=['a', 'b', 'c'])\n",
      ">>> df2\n",
      "   a  b  c\n",
      "0  1  2  3\n",
      "1  4  5  6\n",
      "2  7  8  9\n",
      "\n",
      "Constructing DataFrame from a numpy ndarray that has labeled columns:\n",
      "\n",
      ">>> data = np.array([(1, 2, 3), (4, 5, 6), (7, 8, 9)],\n",
      "...                 dtype=[(\"a\", \"i4\"), (\"b\", \"i4\"), (\"c\", \"i4\")])\n",
      ">>> df3 = pd.DataFrame(data, columns=['c', 'a'])\n",
      "...\n",
      ">>> df3\n",
      "   c  a\n",
      "0  3  1\n",
      "1  6  4\n",
      "2  9  7\n",
      "\n",
      "Constructing DataFrame from dataclass:\n",
      "\n",
      ">>> from dataclasses import make_dataclass\n",
      ">>> Point = make_dataclass(\"Point\", [(\"x\", int), (\"y\", int)])\n",
      ">>> pd.DataFrame([Point(0, 0), Point(0, 3), Point(2, 3)])\n",
      "   x  y\n",
      "0  0  0\n",
      "1  0  3\n",
      "2  2  3\n",
      "\u001b[0;31mFile:\u001b[0m           /Library/Frameworks/Python.framework/Versions/3.12/lib/python3.12/site-packages/pandas/core/frame.py\n",
      "\u001b[0;31mType:\u001b[0m           type\n",
      "\u001b[0;31mSubclasses:\u001b[0m     SubclassedDataFrame"
     ]
    }
   ],
   "source": [
    "# Need help?\n",
    "?pd.DataFrame"
   ]
  },
  {
   "cell_type": "code",
   "execution_count": 8,
   "id": "be17a3d8",
   "metadata": {
    "collapsed": true
   },
   "outputs": [
    {
     "data": {
      "text/html": [
       "<div>\n",
       "<style scoped>\n",
       "    .dataframe tbody tr th:only-of-type {\n",
       "        vertical-align: middle;\n",
       "    }\n",
       "\n",
       "    .dataframe tbody tr th {\n",
       "        vertical-align: top;\n",
       "    }\n",
       "\n",
       "    .dataframe thead th {\n",
       "        text-align: right;\n",
       "    }\n",
       "</style>\n",
       "<table border=\"1\" class=\"dataframe\">\n",
       "  <thead>\n",
       "    <tr style=\"text-align: right;\">\n",
       "      <th></th>\n",
       "      <th>Temperature</th>\n",
       "    </tr>\n",
       "  </thead>\n",
       "  <tbody>\n",
       "    <tr>\n",
       "      <th>0</th>\n",
       "      <td>14.2</td>\n",
       "    </tr>\n",
       "    <tr>\n",
       "      <th>1</th>\n",
       "      <td>16.4</td>\n",
       "    </tr>\n",
       "    <tr>\n",
       "      <th>2</th>\n",
       "      <td>11.9</td>\n",
       "    </tr>\n",
       "    <tr>\n",
       "      <th>3</th>\n",
       "      <td>12.5</td>\n",
       "    </tr>\n",
       "    <tr>\n",
       "      <th>4</th>\n",
       "      <td>18.9</td>\n",
       "    </tr>\n",
       "  </tbody>\n",
       "</table>\n",
       "</div>"
      ],
      "text/plain": [
       "   Temperature\n",
       "0         14.2\n",
       "1         16.4\n",
       "2         11.9\n",
       "3         12.5\n",
       "4         18.9"
      ]
     },
     "execution_count": 8,
     "metadata": {},
     "output_type": "execute_result"
    }
   ],
   "source": [
    "# Check the header (or the whole df) or delete the data frame if you encounter a problem\n",
    "df.head()\n",
    "\n",
    "# To see the whole data frame\n",
    "# display(df)\n",
    "# print(df)\n",
    "# df\n",
    "\n",
    "# Delete the data frame\n",
    "#del df\n",
    "\n",
    "# Delete a single column in a data frame\n",
    "# del df[\"Temperature\"]"
   ]
  },
  {
   "cell_type": "code",
   "execution_count": 9,
   "id": "c94296f9",
   "metadata": {},
   "outputs": [],
   "source": [
    "# Add sales list as the last column of the data frame object\n",
    "df.loc[:, 'Sales'] = sales"
   ]
  },
  {
   "cell_type": "code",
   "execution_count": 10,
   "id": "06729f44",
   "metadata": {},
   "outputs": [],
   "source": [
    "# Additional practice of common methods in our data frame\n",
    "#df.dtypes()\n",
    "#df.shape\n",
    "#df.info"
   ]
  },
  {
   "cell_type": "markdown",
   "id": "c78fbf76",
   "metadata": {},
   "source": [
    "## 2. Descriptive statistics\n",
    "\n",
    "Descriptive statistics is a set of brief descriptive coefficients that summarize a given data set representative of an entire or sample population."
   ]
  },
  {
   "cell_type": "code",
   "execution_count": 11,
   "id": "6ebb7c81",
   "metadata": {
    "collapsed": true
   },
   "outputs": [
    {
     "data": {
      "text/plain": [
       "18.48333333333333"
      ]
     },
     "execution_count": 11,
     "metadata": {},
     "output_type": "execute_result"
    }
   ],
   "source": [
    "# Compute average temperatures\n",
    "df[\"Temperature\"].mean()\n",
    "\n",
    "# Avg sales in a slightly different format?\n"
   ]
  },
  {
   "cell_type": "code",
   "execution_count": 12,
   "id": "ed6e36c7",
   "metadata": {
    "collapsed": true
   },
   "outputs": [
    {
     "data": {
      "text/plain": [
       "Temperature     18.483333\n",
       "Sales          403.254167\n",
       "dtype: float64"
      ]
     },
     "execution_count": 12,
     "metadata": {},
     "output_type": "execute_result"
    }
   ],
   "source": [
    "# Both columns' means and medians together\n",
    "df[[\"Temperature\", \"Sales\"]].mean()\n",
    "\n",
    "# Or simply:"
   ]
  },
  {
   "cell_type": "code",
   "execution_count": 13,
   "id": "31b89057",
   "metadata": {
    "collapsed": true
   },
   "outputs": [
    {
     "data": {
      "text/plain": [
       "count    12.000000\n",
       "mean     18.483333\n",
       "std       4.304508\n",
       "min      11.900000\n",
       "25%      15.850000\n",
       "50%      18.500000\n",
       "75%      22.225000\n",
       "max      25.400000\n",
       "Name: Temperature, dtype: float64"
      ]
     },
     "execution_count": 13,
     "metadata": {},
     "output_type": "execute_result"
    }
   ],
   "source": [
    "# Basic descriptive statistic can be calculated by \"describe\" method\n",
    "df['Temperature'].describe()\n",
    "\n",
    "# Try multiple columns"
   ]
  },
  {
   "cell_type": "code",
   "execution_count": 14,
   "id": "05bf42ce",
   "metadata": {
    "collapsed": true
   },
   "outputs": [
    {
     "data": {
      "text/html": [
       "<div>\n",
       "<style scoped>\n",
       "    .dataframe tbody tr th:only-of-type {\n",
       "        vertical-align: middle;\n",
       "    }\n",
       "\n",
       "    .dataframe tbody tr th {\n",
       "        vertical-align: top;\n",
       "    }\n",
       "\n",
       "    .dataframe thead th {\n",
       "        text-align: right;\n",
       "    }\n",
       "</style>\n",
       "<table border=\"1\" class=\"dataframe\">\n",
       "  <thead>\n",
       "    <tr style=\"text-align: right;\">\n",
       "      <th></th>\n",
       "      <th>Temperature</th>\n",
       "    </tr>\n",
       "  </thead>\n",
       "  <tbody>\n",
       "    <tr>\n",
       "      <th>min</th>\n",
       "      <td>11.900000</td>\n",
       "    </tr>\n",
       "    <tr>\n",
       "      <th>max</th>\n",
       "      <td>25.400000</td>\n",
       "    </tr>\n",
       "    <tr>\n",
       "      <th>mean</th>\n",
       "      <td>18.483333</td>\n",
       "    </tr>\n",
       "    <tr>\n",
       "      <th>median</th>\n",
       "      <td>18.500000</td>\n",
       "    </tr>\n",
       "    <tr>\n",
       "      <th>skew</th>\n",
       "      <td>-0.057610</td>\n",
       "    </tr>\n",
       "    <tr>\n",
       "      <th>kurt</th>\n",
       "      <td>-0.948878</td>\n",
       "    </tr>\n",
       "    <tr>\n",
       "      <th>std</th>\n",
       "      <td>4.304508</td>\n",
       "    </tr>\n",
       "  </tbody>\n",
       "</table>\n",
       "</div>"
      ],
      "text/plain": [
       "        Temperature\n",
       "min       11.900000\n",
       "max       25.400000\n",
       "mean      18.483333\n",
       "median    18.500000\n",
       "skew      -0.057610\n",
       "kurt      -0.948878\n",
       "std        4.304508"
      ]
     },
     "execution_count": 14,
     "metadata": {},
     "output_type": "execute_result"
    }
   ],
   "source": [
    "# We can pick and choose aggregating statistics by Agg method. Syntax is a little involved though.\n",
    "df.agg(\n",
    "    {'Temperature': [\"min\", 'max', \"mean\", \"median\", \"skew\", 'kurt', 'std']})\n",
    "\n",
    "# Try multiple columns\n",
    "\n"
   ]
  },
  {
   "cell_type": "code",
   "execution_count": 15,
   "id": "763400ce",
   "metadata": {
    "collapsed": true
   },
   "outputs": [
    {
     "data": {
      "text/plain": [
       "DescribeResult(nobs=12, minmax=(11.9, 25.4), mean=18.48333333333333, variance=18.52878787878788, skewness=-0.050142995905028576, kurtosis=-1.0587346942653864)"
      ]
     },
     "execution_count": 15,
     "metadata": {},
     "output_type": "execute_result"
    }
   ],
   "source": [
    "# Yet another way\n",
    "from scipy import stats\n",
    "stats.describe(df.Temperature)"
   ]
  },
  {
   "cell_type": "code",
   "execution_count": 29,
   "id": "bff83b7b",
   "metadata": {
    "collapsed": true
   },
   "outputs": [
    {
     "data": {
      "text/plain": [
       "DescribeResult(nobs=12, minmax=(185.2, 614.6), mean=403.2541666666668, variance=15927.320662878787, skewness=-0.1853695422482174, kurtosis=-0.5899816060520142)"
      ]
     },
     "execution_count": 29,
     "metadata": {},
     "output_type": "execute_result"
    }
   ],
   "source": [
    "# Same method works with lists as well as NumPy arrays\n",
    "stats.describe(sales)"
   ]
  },
  {
   "cell_type": "markdown",
   "id": "277a352e",
   "metadata": {},
   "source": [
    "## 3. Scatter plot\n",
    "\n",
    "Opting for scatter plots is an excellent choise for visualizing indepedent data points."
   ]
  },
  {
   "cell_type": "code",
   "execution_count": 30,
   "id": "1fc0b39f",
   "metadata": {
    "collapsed": true
   },
   "outputs": [
    {
     "data": {
      "text/plain": [
       "<matplotlib.collections.PathCollection at 0x12a13bfb0>"
      ]
     },
     "execution_count": 30,
     "metadata": {},
     "output_type": "execute_result"
    },
    {
     "data": {
      "image/png": "[encoded data removed]",
      "text/plain": [
       "<Figure size 640x480 with 1 Axes>"
      ]
     },
     "metadata": {},
     "output_type": "display_data"
    }
   ],
   "source": [
    "# Scatter plot\n",
    "plt.scatter(temperature, sales, color='red')\n",
    "#plt.scatter(sales, temperature, color='blue')\n",
    "plt.show()"
   ]
  },
  {
   "cell_type": "code",
   "execution_count": 31,
   "id": "8b7ffab7",
   "metadata": {
    "collapsed": true
   },
   "outputs": [
    {
     "data": {
      "text/plain": [
       "<matplotlib.collections.PathCollection at 0x12a271460>"
      ]
     },
     "execution_count": 31,
     "metadata": {},
     "output_type": "execute_result"
    },
    {
     "data": {
      "text/plain": [
       "<function matplotlib.pyplot.show(close=None, block=None)>"
      ]
     },
     "execution_count": 31,
     "metadata": {},
     "output_type": "execute_result"
    },
    {
     "data": {
      "image/png": "[encoded data removed]",
      "text/plain": [
       "<Figure size 640x480 with 1 Axes>"
      ]
     },
     "metadata": {},
     "output_type": "display_data"
    }
   ],
   "source": [
    "# Add title and axis labels\n",
    "#plt.title('Ice-cream sales vs. Temperature')\n",
    "#plt.xlabel('Temperature')\n",
    "#plt.ylabel('Sales')\n",
    "plt.scatter(temperature, sales, color='red')\n",
    "\n",
    "# Linear trendline\n",
    "#z = np.polyfit(temperature, sales, 1)\n",
    "#p = np.poly1d(z)\n",
    "\n",
    "#add trendline to plot\n",
    "#plt.plot(temperature, p(temperature))\n",
    "\n",
    "plt.show"
   ]
  },
  {
   "cell_type": "code",
   "execution_count": 32,
   "id": "78503714",
   "metadata": {},
   "outputs": [
    {
     "name": "stdout",
     "output_type": "stream",
     "text": [
      "\u001b[0;31mSignature:\u001b[0m       \u001b[0mnp\u001b[0m\u001b[0;34m.\u001b[0m\u001b[0mpolyfit\u001b[0m\u001b[0;34m(\u001b[0m\u001b[0mx\u001b[0m\u001b[0;34m,\u001b[0m \u001b[0my\u001b[0m\u001b[0;34m,\u001b[0m \u001b[0mdeg\u001b[0m\u001b[0;34m,\u001b[0m \u001b[0mrcond\u001b[0m\u001b[0;34m=\u001b[0m\u001b[0;32mNone\u001b[0m\u001b[0;34m,\u001b[0m \u001b[0mfull\u001b[0m\u001b[0;34m=\u001b[0m\u001b[0;32mFalse\u001b[0m\u001b[0;34m,\u001b[0m \u001b[0mw\u001b[0m\u001b[0;34m=\u001b[0m\u001b[0;32mNone\u001b[0m\u001b[0;34m,\u001b[0m \u001b[0mcov\u001b[0m\u001b[0;34m=\u001b[0m\u001b[0;32mFalse\u001b[0m\u001b[0;34m)\u001b[0m\u001b[0;34m\u001b[0m\u001b[0;34m\u001b[0m\u001b[0m\n",
      "\u001b[0;31mCall signature:\u001b[0m  \u001b[0mnp\u001b[0m\u001b[0;34m.\u001b[0m\u001b[0mpolyfit\u001b[0m\u001b[0;34m(\u001b[0m\u001b[0;34m*\u001b[0m\u001b[0margs\u001b[0m\u001b[0;34m,\u001b[0m \u001b[0;34m**\u001b[0m\u001b[0mkwargs\u001b[0m\u001b[0;34m)\u001b[0m\u001b[0;34m\u001b[0m\u001b[0;34m\u001b[0m\u001b[0m\n",
      "\u001b[0;31mType:\u001b[0m            _ArrayFunctionDispatcher\n",
      "\u001b[0;31mString form:\u001b[0m     <function polyfit at 0x10f923100>\n",
      "\u001b[0;31mFile:\u001b[0m            /Library/Frameworks/Python.framework/Versions/3.12/lib/python3.12/site-packages/numpy/lib/polynomial.py\n",
      "\u001b[0;31mDocstring:\u001b[0m      \n",
      "Least squares polynomial fit.\n",
      "\n",
      ".. note::\n",
      "   This forms part of the old polynomial API. Since version 1.4, the\n",
      "   new polynomial API defined in `numpy.polynomial` is preferred.\n",
      "   A summary of the differences can be found in the\n",
      "   :doc:`transition guide </reference/routines.polynomials>`.\n",
      "\n",
      "Fit a polynomial ``p(x) = p[0] * x**deg + ... + p[deg]`` of degree `deg`\n",
      "to points `(x, y)`. Returns a vector of coefficients `p` that minimises\n",
      "the squared error in the order `deg`, `deg-1`, ... `0`.\n",
      "\n",
      "The `Polynomial.fit <numpy.polynomial.polynomial.Polynomial.fit>` class\n",
      "method is recommended for new code as it is more stable numerically. See\n",
      "the documentation of the method for more information.\n",
      "\n",
      "Parameters\n",
      "----------\n",
      "x : array_like, shape (M,)\n",
      "    x-coordinates of the M sample points ``(x[i], y[i])``.\n",
      "y : array_like, shape (M,) or (M, K)\n",
      "    y-coordinates of the sample points. Several data sets of sample\n",
      "    points sharing the same x-coordinates can be fitted at once by\n",
      "    passing in a 2D-array that contains one dataset per column.\n",
      "deg : int\n",
      "    Degree of the fitting polynomial\n",
      "rcond : float, optional\n",
      "    Relative condition number of the fit. Singular values smaller than\n",
      "    this relative to the largest singular value will be ignored. The\n",
      "    default value is len(x)*eps, where eps is the relative precision of\n",
      "    the float type, about 2e-16 in most cases.\n",
      "full : bool, optional\n",
      "    Switch determining nature of return value. When it is False (the\n",
      "    default) just the coefficients are returned, when True diagnostic\n",
      "    information from the singular value decomposition is also returned.\n",
      "w : array_like, shape (M,), optional\n",
      "    Weights. If not None, the weight ``w[i]`` applies to the unsquared\n",
      "    residual ``y[i] - y_hat[i]`` at ``x[i]``. Ideally the weights are\n",
      "    chosen so that the errors of the products ``w[i]*y[i]`` all have the\n",
      "    same variance.  When using inverse-variance weighting, use\n",
      "    ``w[i] = 1/sigma(y[i])``.  The default value is None.\n",
      "cov : bool or str, optional\n",
      "    If given and not `False`, return not just the estimate but also its\n",
      "    covariance matrix. By default, the covariance are scaled by\n",
      "    chi2/dof, where dof = M - (deg + 1), i.e., the weights are presumed\n",
      "    to be unreliable except in a relative sense and everything is scaled\n",
      "    such that the reduced chi2 is unity. This scaling is omitted if\n",
      "    ``cov='unscaled'``, as is relevant for the case that the weights are\n",
      "    w = 1/sigma, with sigma known to be a reliable estimate of the\n",
      "    uncertainty.\n",
      "\n",
      "Returns\n",
      "-------\n",
      "p : ndarray, shape (deg + 1,) or (deg + 1, K)\n",
      "    Polynomial coefficients, highest power first.  If `y` was 2-D, the\n",
      "    coefficients for `k`-th data set are in ``p[:,k]``.\n",
      "\n",
      "residuals, rank, singular_values, rcond\n",
      "    These values are only returned if ``full == True``\n",
      "\n",
      "    - residuals -- sum of squared residuals of the least squares fit\n",
      "    - rank -- the effective rank of the scaled Vandermonde\n",
      "       coefficient matrix\n",
      "    - singular_values -- singular values of the scaled Vandermonde\n",
      "       coefficient matrix\n",
      "    - rcond -- value of `rcond`.\n",
      "\n",
      "    For more details, see `numpy.linalg.lstsq`.\n",
      "\n",
      "V : ndarray, shape (M,M) or (M,M,K)\n",
      "    Present only if ``full == False`` and ``cov == True``.  The covariance\n",
      "    matrix of the polynomial coefficient estimates.  The diagonal of\n",
      "    this matrix are the variance estimates for each coefficient.  If y\n",
      "    is a 2-D array, then the covariance matrix for the `k`-th data set\n",
      "    are in ``V[:,:,k]``\n",
      "\n",
      "\n",
      "Warns\n",
      "-----\n",
      "RankWarning\n",
      "    The rank of the coefficient matrix in the least-squares fit is\n",
      "    deficient. The warning is only raised if ``full == False``.\n",
      "\n",
      "    The warnings can be turned off by\n",
      "\n",
      "    >>> import warnings\n",
      "    >>> warnings.simplefilter('ignore', np.RankWarning)\n",
      "\n",
      "See Also\n",
      "--------\n",
      "polyval : Compute polynomial values.\n",
      "linalg.lstsq : Computes a least-squares fit.\n",
      "scipy.interpolate.UnivariateSpline : Computes spline fits.\n",
      "\n",
      "Notes\n",
      "-----\n",
      "The solution minimizes the squared error\n",
      "\n",
      ".. math::\n",
      "    E = \\sum_{j=0}^k |p(x_j) - y_j|^2\n",
      "\n",
      "in the equations::\n",
      "\n",
      "    x[0]**n * p[0] + ... + x[0] * p[n-1] + p[n] = y[0]\n",
      "    x[1]**n * p[0] + ... + x[1] * p[n-1] + p[n] = y[1]\n",
      "    ...\n",
      "    x[k]**n * p[0] + ... + x[k] * p[n-1] + p[n] = y[k]\n",
      "\n",
      "The coefficient matrix of the coefficients `p` is a Vandermonde matrix.\n",
      "\n",
      "`polyfit` issues a `RankWarning` when the least-squares fit is badly\n",
      "conditioned. This implies that the best fit is not well-defined due\n",
      "to numerical error. The results may be improved by lowering the polynomial\n",
      "degree or by replacing `x` by `x` - `x`.mean(). The `rcond` parameter\n",
      "can also be set to a value smaller than its default, but the resulting\n",
      "fit may be spurious: including contributions from the small singular\n",
      "values can add numerical noise to the result.\n",
      "\n",
      "Note that fitting polynomial coefficients is inherently badly conditioned\n",
      "when the degree of the polynomial is large or the interval of sample points\n",
      "is badly centered. The quality of the fit should always be checked in these\n",
      "cases. When polynomial fits are not satisfactory, splines may be a good\n",
      "alternative.\n",
      "\n",
      "References\n",
      "----------\n",
      ".. [1] Wikipedia, \"Curve fitting\",\n",
      "       https://en.wikipedia.org/wiki/Curve_fitting\n",
      ".. [2] Wikipedia, \"Polynomial interpolation\",\n",
      "       https://en.wikipedia.org/wiki/Polynomial_interpolation\n",
      "\n",
      "Examples\n",
      "--------\n",
      ">>> import warnings\n",
      ">>> x = np.array([0.0, 1.0, 2.0, 3.0,  4.0,  5.0])\n",
      ">>> y = np.array([0.0, 0.8, 0.9, 0.1, -0.8, -1.0])\n",
      ">>> z = np.polyfit(x, y, 3)\n",
      ">>> z\n",
      "array([ 0.08703704, -0.81349206,  1.69312169, -0.03968254]) # may vary\n",
      "\n",
      "It is convenient to use `poly1d` objects for dealing with polynomials:\n",
      "\n",
      ">>> p = np.poly1d(z)\n",
      ">>> p(0.5)\n",
      "0.6143849206349179 # may vary\n",
      ">>> p(3.5)\n",
      "-0.34732142857143039 # may vary\n",
      ">>> p(10)\n",
      "22.579365079365115 # may vary\n",
      "\n",
      "High-order polynomials may oscillate wildly:\n",
      "\n",
      ">>> with warnings.catch_warnings():\n",
      "...     warnings.simplefilter('ignore', np.RankWarning)\n",
      "...     p30 = np.poly1d(np.polyfit(x, y, 30))\n",
      "...\n",
      ">>> p30(4)\n",
      "-0.80000000000000204 # may vary\n",
      ">>> p30(5)\n",
      "-0.99999999999999445 # may vary\n",
      ">>> p30(4.5)\n",
      "-0.10547061179440398 # may vary\n",
      "\n",
      "Illustration:\n",
      "\n",
      ">>> import matplotlib.pyplot as plt\n",
      ">>> xp = np.linspace(-2, 6, 100)\n",
      ">>> _ = plt.plot(x, y, '.', xp, p(xp), '-', xp, p30(xp), '--')\n",
      ">>> plt.ylim(-2,2)\n",
      "(-2, 2)\n",
      ">>> plt.show()\n",
      "\u001b[0;31mClass docstring:\u001b[0m\n",
      "Class to wrap functions with checks for __array_function__ overrides.\n",
      "\n",
      "All arguments are required, and can only be passed by position.\n",
      "\n",
      "Parameters\n",
      "----------\n",
      "dispatcher : function or None\n",
      "    The dispatcher function that returns a single sequence-like object\n",
      "    of all arguments relevant.  It must have the same signature (except\n",
      "    the default values) as the actual implementation.\n",
      "    If ``None``, this is a ``like=`` dispatcher and the\n",
      "    ``_ArrayFunctionDispatcher`` must be called with ``like`` as the\n",
      "    first (additional and positional) argument.\n",
      "implementation : function\n",
      "    Function that implements the operation on NumPy arrays without\n",
      "    overrides.  Arguments passed calling the ``_ArrayFunctionDispatcher``\n",
      "    will be forwarded to this (and the ``dispatcher``) as if using\n",
      "    ``*args, **kwargs``.\n",
      "\n",
      "Attributes\n",
      "----------\n",
      "_implementation : function\n",
      "    The original implementation passed in."
     ]
    }
   ],
   "source": [
    "?np.polyfit\n",
    "#help(np.polyfit)"
   ]
  },
  {
   "cell_type": "markdown",
   "id": "74f14f65",
   "metadata": {},
   "source": [
    "## 4. Line plot\n",
    "\n",
    "Line plots are useful when visualizing data points that are connected in some meaningful way over the x-axis (e.g. repeated measurements over time), especially for time-series graphs."
   ]
  },
  {
   "cell_type": "code",
   "execution_count": 33,
   "id": "3255febd",
   "metadata": {},
   "outputs": [],
   "source": [
    "stock_price = [190.64, 190.09, 192.25, 191.79, 194.45, 196.45, 196.45, 196.42, 200.32, 200.32, \n",
    "               200.85, 199.2, 199.2, 199.2, 199.46, 201.46, 197.54, 201.12, 203.12, 203.12, 203.12, 202.83, 202.83, 203.36, 206.83, 204.9, 204.9, 204.9, 204.4, 204.06]"
   ]
  },
  {
   "cell_type": "code",
   "execution_count": 34,
   "id": "331eba55",
   "metadata": {
    "collapsed": true
   },
   "outputs": [
    {
     "data": {
      "text/plain": [
       "list"
      ]
     },
     "execution_count": 34,
     "metadata": {},
     "output_type": "execute_result"
    }
   ],
   "source": [
    "type(stock_price)"
   ]
  },
  {
   "cell_type": "code",
   "execution_count": 38,
   "id": "351d0c35",
   "metadata": {
    "collapsed": true
   },
   "outputs": [
    {
     "data": {
      "text/plain": [
       "[<matplotlib.lines.Line2D at 0x12a310e30>]"
      ]
     },
     "execution_count": 38,
     "metadata": {},
     "output_type": "execute_result"
    },
    {
     "data": {
      "text/plain": [
       "Text(0.5, 1.0, 'Opening Stock Prices')"
      ]
     },
     "execution_count": 38,
     "metadata": {},
     "output_type": "execute_result"
    },
    {
     "data": {
      "text/plain": [
       "Text(0.5, 0, 'Days')"
      ]
     },
     "execution_count": 38,
     "metadata": {},
     "output_type": "execute_result"
    },
    {
     "data": {
      "text/plain": [
       "Text(0, 0.5, '$ USD')"
      ]
     },
     "execution_count": 38,
     "metadata": {},
     "output_type": "execute_result"
    },
    {
     "ename": "NameError",
     "evalue": "name 'p' is not defined",
     "output_type": "error",
     "traceback": [
      "\u001b[0;31m---------------------------------------------------------------------------\u001b[0m",
      "\u001b[0;31mNameError\u001b[0m                                 Traceback (most recent call last)",
      "Cell \u001b[0;32mIn[38], line 8\u001b[0m\n\u001b[1;32m      4\u001b[0m plt\u001b[38;5;241m.\u001b[39mylabel(\u001b[38;5;124m'\u001b[39m\u001b[38;5;124m$ USD\u001b[39m\u001b[38;5;124m'\u001b[39m)\n\u001b[1;32m      6\u001b[0m t \u001b[38;5;241m=\u001b[39m \u001b[38;5;28mlist\u001b[39m(\u001b[38;5;28mrange\u001b[39m(\u001b[38;5;241m1\u001b[39m, \u001b[38;5;241m31\u001b[39m))\n\u001b[0;32m----> 8\u001b[0m plt\u001b[38;5;241m.\u001b[39mplot(t, \u001b[43mp\u001b[49m(t))\n\u001b[1;32m     10\u001b[0m plt\u001b[38;5;241m.\u001b[39mshow\n",
      "\u001b[0;31mNameError\u001b[0m: name 'p' is not defined"
     ]
    },
    {
     "data": {
      "image/png": "[encoded data removed]",
      "text/plain": [
       "<Figure size 640x480 with 1 Axes>"
      ]
     },
     "metadata": {},
     "output_type": "display_data"
    }
   ],
   "source": [
    "plt.plot(stock_price)\n",
    "#plt.title('Opening Stock Prices')\n",
    "#plt.xlabel('Days')\n",
    "#plt.ylabel('$ USD')\n",
    "\n",
    "#t = list(range(1, 31))\n",
    "\n",
    "#plt.plot(t, p(t))\n",
    "\n",
    "plt.show"
   ]
  },
  {
   "cell_type": "code",
   "execution_count": 36,
   "id": "976d1e50",
   "metadata": {
    "collapsed": true
   },
   "outputs": [
    {
     "ename": "NameError",
     "evalue": "name 't' is not defined",
     "output_type": "error",
     "traceback": [
      "\u001b[0;31m---------------------------------------------------------------------------\u001b[0m",
      "\u001b[0;31mNameError\u001b[0m                                 Traceback (most recent call last)",
      "Cell \u001b[0;32mIn[36], line 2\u001b[0m\n\u001b[1;32m      1\u001b[0m \u001b[38;5;66;03m# Add linear trendline then extend it for higher (polynomial) degrees\u001b[39;00m\n\u001b[0;32m----> 2\u001b[0m z \u001b[38;5;241m=\u001b[39m np\u001b[38;5;241m.\u001b[39mpolyfit(\u001b[43mt\u001b[49m, stock_price, \u001b[38;5;241m1\u001b[39m)\n\u001b[1;32m      3\u001b[0m p \u001b[38;5;241m=\u001b[39m np\u001b[38;5;241m.\u001b[39mpoly1d(z)\n",
      "\u001b[0;31mNameError\u001b[0m: name 't' is not defined"
     ]
    }
   ],
   "source": [
    "# Add linear trendline then extend it for higher (polynomial) degrees\n",
    "z = np.polyfit(t, stock_price, 1)\n",
    "p = np.poly1d(z)"
   ]
  },
  {
   "cell_type": "code",
   "execution_count": 37,
   "id": "aea2ff1d",
   "metadata": {
    "collapsed": true
   },
   "outputs": [
    {
     "name": "stdout",
     "output_type": "stream",
     "text": [
      "[1, 2, 3, 4, 5, 6, 7, 8, 9, 10, 11, 12, 13, 14, 15, 16, 17, 18, 19, 20, 21, 22, 23, 24, 25, 26, 27, 28, 29, 30]\n"
     ]
    }
   ],
   "source": [
    "# Just to remember the Range \n",
    "t = list(range(1, 31))\n",
    "print(t)"
   ]
  },
  {
   "cell_type": "code",
   "execution_count": 297,
   "id": "78e98508",
   "metadata": {
    "collapsed": true
   },
   "outputs": [
    {
     "data": {
      "text/plain": [
       "[<matplotlib.lines.Line2D at 0x195aa2d3c10>]"
      ]
     },
     "execution_count": 297,
     "metadata": {},
     "output_type": "execute_result"
    },
    {
     "data": {
      "image/png": "[encoded data removed]",
      "text/plain": [
       "<Figure size 640x480 with 1 Axes>"
      ]
     },
     "metadata": {},
     "output_type": "display_data"
    }
   ],
   "source": [
    "plt.plot(t, stock_price, marker='.', color='red')  # Change the marker types\n",
    "#plt.xticks([1, 8, 15, 22, 28])\n",
    "plt.show()"
   ]
  },
  {
   "cell_type": "markdown",
   "id": "b994bbbd",
   "metadata": {},
   "source": [
    "## 5. Bar plot\n",
    "\n",
    "Bar plots are generally useful in portraying counts of items across categories (each with its own bar), such as histograms."
   ]
  },
  {
   "cell_type": "code",
   "execution_count": 111,
   "id": "8cd2620c",
   "metadata": {},
   "outputs": [],
   "source": [
    "grades = ['A', 'B', 'C', 'D', 'F', 'I']\n",
    "students_count = [19, 30, 10, 5, 9, 2]"
   ]
  },
  {
   "cell_type": "code",
   "execution_count": 112,
   "id": "48865540",
   "metadata": {},
   "outputs": [],
   "source": [
    "# function to add value labels\n",
    "def addlabels(x, y):\n",
    "    for i in range(len(x)):\n",
    "        plt.text(i, y[i], y[i], ha = 'center')"
   ]
  },
  {
   "cell_type": "code",
   "execution_count": 117,
   "id": "c6876a19",
   "metadata": {
    "collapsed": true
   },
   "outputs": [
    {
     "data": {
      "text/plain": [
       "<BarContainer object of 6 artists>"
      ]
     },
     "execution_count": 117,
     "metadata": {},
     "output_type": "execute_result"
    },
    {
     "data": {
      "image/png": "[encoded data removed]",
      "text/plain": [
       "<Figure size 640x480 with 1 Axes>"
      ]
     },
     "metadata": {},
     "output_type": "display_data"
    }
   ],
   "source": [
    "#\n",
    "\n",
    "plt.bar(grades, students_count, color=['green', 'gray', 'gray', 'gray', 'red', 'blue'])"
   ]
  },
  {
   "cell_type": "code",
   "execution_count": 284,
   "id": "eb5d56f6",
   "metadata": {
    "collapsed": true
   },
   "outputs": [
    {
     "data": {
      "text/plain": [
       "<BarContainer object of 6 artists>"
      ]
     },
     "execution_count": 284,
     "metadata": {},
     "output_type": "execute_result"
    },
    {
     "data": {
      "image/png": "[encoded data removed]",
      "text/plain": [
       "<Figure size 640x480 with 1 Axes>"
      ]
     },
     "metadata": {},
     "output_type": "display_data"
    }
   ],
   "source": [
    "#plt.title('Grades Bar Plot for Python Class')\n",
    "#plt.xlabel('Grade')\n",
    "#plt.ylabel('Num Students')\n",
    "plt.bar(grades, students_count, color=['green', 'gray', 'gray', 'gray', 'red', 'blue'])\n",
    "# calling the function to add value labels\n",
    "#addlabels(grades, students_count)\n",
    "plt.show()"
   ]
  },
  {
   "cell_type": "code",
   "execution_count": 285,
   "id": "ba558b7e",
   "metadata": {
    "collapsed": true
   },
   "outputs": [
    {
     "data": {
      "text/plain": [
       "<BarContainer object of 6 artists>"
      ]
     },
     "execution_count": 285,
     "metadata": {},
     "output_type": "execute_result"
    },
    {
     "data": {
      "image/png": "[encoded data removed]",
      "text/plain": [
       "<Figure size 640x480 with 1 Axes>"
      ]
     },
     "metadata": {},
     "output_type": "display_data"
    }
   ],
   "source": [
    "# Horizontal bar plot\n",
    "plt.barh(grades, students_count, color=['green', 'lightgreen', 'silver', 'gray', 'red', 'blue'])\n",
    "\n",
    "# Add labels as we did above"
   ]
  },
  {
   "cell_type": "markdown",
   "id": "e44f81ab",
   "metadata": {},
   "source": [
    "## 6. Pie chart\n",
    "\n",
    "While pie charts effectively communicate fractional data and percentages, they pose challenges when comparing relative proportions across numerous categories. In such cases, opting for a bar chart or a table can facilitate more precise comparisons between categories."
   ]
  },
  {
   "cell_type": "code",
   "execution_count": 298,
   "id": "52d5f3aa",
   "metadata": {},
   "outputs": [],
   "source": [
    "labels = ['Selma', 'Serra', 'Oswald']\n",
    "votes = [203, 140, 98] # Note that this does not need to be percentages"
   ]
  },
  {
   "cell_type": "code",
   "execution_count": 300,
   "id": "f5da87de",
   "metadata": {
    "collapsed": true
   },
   "outputs": [
    {
     "data": {
      "text/plain": [
       "([<matplotlib.patches.Wedge at 0x195aa4abe50>,\n",
       "  <matplotlib.patches.Wedge at 0x195aa4bced0>,\n",
       "  <matplotlib.patches.Wedge at 0x195aa4be5d0>],\n",
       " [Text(0.13677806700190426, 1.0914631282765455, 'Selma'),\n",
       "  Text(-0.8063570223196342, -0.7481900510938466, 'Serra'),\n",
       "  Text(0.8426489499534077, -0.7070662961437348, 'Oswald')],\n",
       " [Text(0.07460621836467504, 0.5953435245144792, '46.0%'),\n",
       "  Text(-0.4398311030834368, -0.4081036642330072, '31.7%'),\n",
       "  Text(0.45962669997458594, -0.3856725251693099, '22.2%')])"
      ]
     },
     "execution_count": 300,
     "metadata": {},
     "output_type": "execute_result"
    },
    {
     "data": {
      "image/png": "[encoded data removed]",
      "text/plain": [
       "<Figure size 640x480 with 1 Axes>"
      ]
     },
     "metadata": {},
     "output_type": "display_data"
    }
   ],
   "source": [
    "plt.pie(votes, labels=labels, autopct='%1.1f%%', colors=['blue', 'green', 'yellow'])"
   ]
  },
  {
   "cell_type": "code",
   "execution_count": 301,
   "id": "0fd1874e",
   "metadata": {
    "collapsed": true
   },
   "outputs": [
    {
     "data": {
      "text/plain": [
       "Text(0.5, 1.0, 'Voting Results: Club President')"
      ]
     },
     "execution_count": 301,
     "metadata": {},
     "output_type": "execute_result"
    },
    {
     "data": {
      "text/plain": [
       "([<matplotlib.patches.Wedge at 0x195aa4ebe90>,\n",
       "  <matplotlib.patches.Wedge at 0x195aa505d50>,\n",
       "  <matplotlib.patches.Wedge at 0x195aa507250>],\n",
       " [Text(0.13677806700190426, 1.0914631282765455, 'Selma'),\n",
       "  Text(-0.8063570223196342, -0.7481900510938466, 'Serra'),\n",
       "  Text(0.8426489499534077, -0.7070662961437348, 'Oswald')],\n",
       " [Text(0.07460621836467504, 0.5953435245144792, '46.0%'),\n",
       "  Text(-0.4398311030834368, -0.4081036642330072, '31.7%'),\n",
       "  Text(0.45962669997458594, -0.3856725251693099, '22.2%')])"
      ]
     },
     "execution_count": 301,
     "metadata": {},
     "output_type": "execute_result"
    },
    {
     "data": {
      "image/png": "[encoded data removed]",
      "text/plain": [
       "<Figure size 640x480 with 1 Axes>"
      ]
     },
     "metadata": {},
     "output_type": "display_data"
    }
   ],
   "source": [
    "plt.title('Voting Results: Club President', fontdict={'fontsize': 20})\n",
    "plt.pie(votes, labels=labels, autopct='%1.1f%%', colors=['lightblue', 'lightgreen', 'yellow'])\n",
    "plt.show()"
   ]
  },
  {
   "cell_type": "markdown",
   "id": "5f83e3d0",
   "metadata": {},
   "source": [
    "## 7. Heat map\n",
    "\n",
    "It is often desirable to show data which depends on two independent variables as a color coded image plot. This is often referred to as a heatmap. If the data is categorical, this would be called a categorical heatmap, which is an excellent visualization for illustrating the relationship."
   ]
  },
  {
   "cell_type": "code",
   "execution_count": 302,
   "id": "9d942780",
   "metadata": {
    "collapsed": true
   },
   "outputs": [
    {
     "data": {
      "text/plain": [
       "[<matplotlib.axis.XTick at 0x195aa3705d0>,\n",
       " <matplotlib.axis.XTick at 0x195aa52ef90>,\n",
       " <matplotlib.axis.XTick at 0x195aa4398d0>,\n",
       " <matplotlib.axis.XTick at 0x195aa569710>,\n",
       " <matplotlib.axis.XTick at 0x195aa56b5d0>,\n",
       " <matplotlib.axis.XTick at 0x195aa570cd0>,\n",
       " <matplotlib.axis.XTick at 0x195aa573a10>]"
      ]
     },
     "execution_count": 302,
     "metadata": {},
     "output_type": "execute_result"
    },
    {
     "data": {
      "text/plain": [
       "[<matplotlib.axis.YTick at 0x195aa4939d0>,\n",
       " <matplotlib.axis.YTick at 0x195aa429f90>,\n",
       " <matplotlib.axis.YTick at 0x195aa571510>,\n",
       " <matplotlib.axis.YTick at 0x195aa575d50>,\n",
       " <matplotlib.axis.YTick at 0x195aa580e90>,\n",
       " <matplotlib.axis.YTick at 0x195aa582f90>,\n",
       " <matplotlib.axis.YTick at 0x195aa584890>]"
      ]
     },
     "execution_count": 302,
     "metadata": {},
     "output_type": "execute_result"
    },
    {
     "data": {
      "text/plain": [
       "[None,\n",
       " None,\n",
       " None,\n",
       " None,\n",
       " None,\n",
       " None,\n",
       " None,\n",
       " None,\n",
       " None,\n",
       " None,\n",
       " None,\n",
       " None,\n",
       " None,\n",
       " None,\n",
       " None,\n",
       " None,\n",
       " None,\n",
       " None,\n",
       " None,\n",
       " None,\n",
       " None,\n",
       " None,\n",
       " None,\n",
       " None,\n",
       " None,\n",
       " None,\n",
       " None,\n",
       " None]"
      ]
     },
     "execution_count": 302,
     "metadata": {},
     "output_type": "execute_result"
    },
    {
     "data": {
      "text/plain": [
       "Text(0.5, 1.0, 'Harvest of local farmers (in tons/year)')"
      ]
     },
     "execution_count": 302,
     "metadata": {},
     "output_type": "execute_result"
    },
    {
     "data": {
      "image/png": "[encoded data removed]",
      "text/plain": [
       "<Figure size 640x480 with 1 Axes>"
      ]
     },
     "metadata": {},
     "output_type": "display_data"
    }
   ],
   "source": [
    "#import matplotlib.pyplot as plt\n",
    "#import numpy as np\n",
    "\n",
    "#import matplotlib\n",
    "#import matplotlib as mpl\n",
    "\n",
    "\n",
    "vegetables = [\"cucumber\", \"tomato\", \"lettuce\", \"asparagus\",\n",
    "              \"potato\", \"wheat\", \"barley\"]\n",
    "farmers = [\"Farmer Joe\", \"Upland Bros.\", \"Smith Gardening\",\n",
    "           \"Agrifun\", \"Organiculture\", \"BioGoods Ltd.\", \"Cornylee Corp.\"]\n",
    "\n",
    "harvest = np.array([[0.8, 2.4, 2.5, 3.9, 0.0, 4.0, 0.0],\n",
    "                    [2.4, 0.0, 4.0, 1.0, 2.7, 0.0, 0.0],\n",
    "                    [1.1, 2.4, 0.8, 4.3, 1.9, 4.4, 0.0],\n",
    "                    [0.6, 0.0, 0.3, 0.0, 3.1, 0.0, 0.0],\n",
    "                    [0.7, 1.7, 0.6, 2.6, 2.2, 6.2, 0.0],\n",
    "                    [1.3, 1.2, 0.0, 0.0, 0.0, 3.2, 5.1],\n",
    "                    [0.1, 2.0, 0.0, 1.4, 0.0, 1.9, 6.3]])\n",
    "\n",
    "\n",
    "fig, ax = plt.subplots()\n",
    "im = ax.imshow(harvest)\n",
    "\n",
    "# Show all ticks and label them with the respective list entries\n",
    "ax.set_xticks(np.arange(len(farmers)), labels=farmers)\n",
    "ax.set_yticks(np.arange(len(vegetables)), labels=vegetables)\n",
    "\n",
    "# Rotate the tick labels and set their alignment.\n",
    "plt.setp(ax.get_xticklabels(), rotation=45, ha=\"right\",\n",
    "         rotation_mode=\"anchor\")\n",
    "\n",
    "# Loop over data dimensions and create text annotations.\n",
    "for i in range(len(vegetables)):\n",
    "    for j in range(len(farmers)):\n",
    "        text = ax.text(j, i, harvest[i, j],\n",
    "                       ha=\"center\", va=\"center\", color=\"w\")\n",
    "\n",
    "ax.set_title(\"Harvest of local farmers (in tons/year)\")\n",
    "fig.tight_layout()\n",
    "plt.show()"
   ]
  },
  {
   "cell_type": "code",
   "execution_count": 303,
   "id": "07efed9d",
   "metadata": {
    "collapsed": true
   },
   "outputs": [
    {
     "data": {
      "text/plain": [
       "numpy.ndarray"
      ]
     },
     "execution_count": 303,
     "metadata": {},
     "output_type": "execute_result"
    }
   ],
   "source": [
    "type(harvest)"
   ]
  },
  {
   "cell_type": "code",
   "execution_count": 304,
   "id": "c8d9f8fb",
   "metadata": {
    "collapsed": true
   },
   "outputs": [],
   "source": [
    "# Rest of the Heat map exercise cells are to illustrate how to \"recycle\" code from public domain.\n",
    "# You won't be responsible from this code.\n",
    "# First, we will define a heatmap function.\n",
    "def heatmap(data, row_labels, col_labels, ax=None,\n",
    "            cbar_kw={}, cbarlabel=\"\", **kwargs):\n",
    "    if not ax:\n",
    "        ax = plt.gca()\n",
    "\n",
    "    im = ax.imshow(data, **kwargs)\n",
    "    cbar = ax.figure.colorbar(im, ax=ax, **cbar_kw)\n",
    "    cbar.ax.set_ylabel(cbarlabel, rotation=-90, va=\"bottom\")\n",
    "    ax.set_xticks(np.arange(data.shape[1]))\n",
    "    ax.set_yticks(np.arange(data.shape[0]))\n",
    "    ax.set_xticklabels(col_labels)\n",
    "    ax.set_yticklabels(row_labels)\n",
    "    ax.tick_params(top=True, bottom=False, labeltop=True, labelbottom=False)\n",
    "    plt.setp(ax.get_xticklabels(), rotation=-30, ha=\"right\", rotation_mode=\"anchor\")\n",
    "    for edge, spine in ax.spines.items():\n",
    "        spine.set_visible(False)\n",
    "    ax.set_xticks(np.arange(data.shape[1]+1)-.5, minor=True)\n",
    "    ax.set_yticks(np.arange(data.shape[0]+1)-.5, minor=True)\n",
    "    ax.grid(which=\"minor\", color=\"w\", linestyle='-', linewidth=3)\n",
    "    ax.tick_params(which=\"minor\", bottom=False, left=False)\n",
    "    return im, cbar"
   ]
  },
  {
   "cell_type": "code",
   "execution_count": 305,
   "id": "0460be52",
   "metadata": {
    "collapsed": true
   },
   "outputs": [
    {
     "data": {
      "image/png": "[encoded data removed]",
      "text/plain": [
       "<Figure size 640x480 with 2 Axes>"
      ]
     },
     "metadata": {},
     "output_type": "display_data"
    }
   ],
   "source": [
    "import numpy as np\n",
    "import matplotlib.pyplot as plt\n",
    "data = np.array([\n",
    "    [30, 20, 10,],\n",
    "    [10, 40, 15],\n",
    "    [12, 10, 20]\n",
    "])\n",
    "\n",
    "im, cbar = heatmap(data, ['Class-1', 'Class-2', 'Class-3'], ['A', 'B', 'C'], cmap='YlGn', cbarlabel='Number of Students')\n"
   ]
  },
  {
   "cell_type": "markdown",
   "id": "7d1fb3ec",
   "metadata": {},
   "source": [
    "Notice that we used a `numpy` array to store the data for the heatmap?  More on this later...\n",
    "\n",
    "It would be helpful to be able to provide more information about the particular values corresponding to each color.  To accomplish this, we can define another function (below) that does this. "
   ]
  },
  {
   "cell_type": "code",
   "execution_count": 309,
   "id": "2522991a",
   "metadata": {
    "collapsed": true
   },
   "outputs": [],
   "source": [
    "def annotate_heatmap(im, data=None, valfmt=\"{x:.2f}\",\n",
    "                     textcolors=[\"black\", \"white\"],\n",
    "                     threshold=None, **textkw):\n",
    "    import matplotlib\n",
    "    if not isinstance(data, (list, np.ndarray)):\n",
    "        data = im.get_array()\n",
    "    if threshold is not None:\n",
    "        threshold = im.norm(threshold)\n",
    "    else:\n",
    "        threshold = im.norm(data.max())/2.\n",
    "    kw = dict(horizontalalignment=\"center\",\n",
    "              verticalalignment=\"center\")\n",
    "    kw.update(textkw)\n",
    "    if isinstance(valfmt, str):\n",
    "        valfmt = matplotlib.ticker.StrMethodFormatter(valfmt)\n",
    "    texts = []\n",
    "    for i in range(data.shape[0]):\n",
    "        for j in range(data.shape[1]):\n",
    "            kw.update(color=textcolors[im.norm(data[i, j]) > threshold])\n",
    "            text = im.axes.text(j, i, valfmt(data[i, j], None), **kw)\n",
    "            texts.append(text)\n",
    "\n",
    "    return texts"
   ]
  },
  {
   "cell_type": "code",
   "execution_count": 310,
   "id": "49868320",
   "metadata": {
    "collapsed": true
   },
   "outputs": [
    {
     "name": "stderr",
     "output_type": "stream",
     "text": [
      "C:\\Users\\okazan\\AppData\\Local\\Temp\\ipykernel_36800\\2292961765.py:19: DeprecationWarning: In future, it will be an error for 'np.bool_' scalars to be interpreted as an index\n",
      "  kw.update(color=textcolors[im.norm(data[i, j]) > threshold])\n"
     ]
    },
    {
     "data": {
      "image/png": "[encoded data removed]",
      "text/plain": [
       "<Figure size 640x480 with 2 Axes>"
      ]
     },
     "metadata": {},
     "output_type": "display_data"
    }
   ],
   "source": [
    "im, cbar = heatmap(data, ['Class-1', 'Class-2', 'Class-3'], ['A', 'B', 'C'], cmap='YlGn', cbarlabel='Number of Students')\n",
    "texts = annotate_heatmap(im, valfmt=\"{x}\")"
   ]
  },
  {
   "cell_type": "markdown",
   "id": "4de73a2f",
   "metadata": {},
   "source": [
    "## 8. Histogram and density plot w/ Seaborn\n",
    "\n",
    "When visualizing the distribution of a continuous variable, histograms and density plots are a great option."
   ]
  },
  {
   "cell_type": "code",
   "execution_count": 312,
   "id": "73714244",
   "metadata": {
    "collapsed": true
   },
   "outputs": [
    {
     "data": {
      "text/plain": [
       "<Axes: ylabel='Count'>"
      ]
     },
     "execution_count": 312,
     "metadata": {},
     "output_type": "execute_result"
    },
    {
     "data": {
      "image/png": "[encoded data removed]",
      "text/plain": [
       "<Figure size 640x480 with 1 Axes>"
      ]
     },
     "metadata": {},
     "output_type": "display_data"
    }
   ],
   "source": [
    "data = [90, 80, 50, 42, 89, 78, 34, 70, 67, 73, 74, 80, 60, 90, 90]\n",
    "sns.histplot(data) #, kde = True)"
   ]
  },
  {
   "cell_type": "code",
   "execution_count": 7,
   "id": "197ebc38",
   "metadata": {
    "collapsed": true
   },
   "outputs": [
    {
     "data": {
      "text/plain": [
       "Text(0.5, 1.0, 'Density Plot')"
      ]
     },
     "execution_count": 7,
     "metadata": {},
     "output_type": "execute_result"
    },
    {
     "data": {
      "text/plain": [
       "Text(0.5, 0, 'Score')"
      ]
     },
     "execution_count": 7,
     "metadata": {},
     "output_type": "execute_result"
    },
    {
     "data": {
      "text/plain": [
       "Text(0, 0.5, 'Density')"
      ]
     },
     "execution_count": 7,
     "metadata": {},
     "output_type": "execute_result"
    },
    {
     "data": {
      "text/plain": [
       "<AxesSubplot: title={'center': 'Density Plot'}, xlabel='Score', ylabel='Density'>"
      ]
     },
     "execution_count": 7,
     "metadata": {},
     "output_type": "execute_result"
    },
    {
     "data": {
      "image/png": "[encoded data removed]",
      "text/plain": [
       "<Figure size 640x480 with 1 Axes>"
      ]
     },
     "metadata": {},
     "output_type": "display_data"
    }
   ],
   "source": [
    "#plt.title('Density Plot')\n",
    "#plt.xlabel('Score')\n",
    "#plt.ylabel('Density')\n",
    "#sns.histplot(data,kde=True)\n",
    "#plt.show()"
   ]
  }
 ],
 "metadata": {
  "kernelspec": {
   "display_name": "Python 3 (ipykernel)",
   "language": "python",
   "name": "python3"
  },
  "language_info": {
   "codemirror_mode": {
    "name": "ipython",
    "version": 3
   },
   "file_extension": ".py",
   "mimetype": "text/x-python",
   "name": "python",
   "nbconvert_exporter": "python",
   "pygments_lexer": "ipython3",
   "version": "3.12.0"
  }
 },
 "nbformat": 4,
 "nbformat_minor": 5
}
